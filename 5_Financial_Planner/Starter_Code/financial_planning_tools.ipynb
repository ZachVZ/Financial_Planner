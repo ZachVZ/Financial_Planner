{
 "cells": [
  {
   "cell_type": "markdown",
   "metadata": {},
   "source": [
    "# Financial Planning with APIs and Simulations\n",
    "\n",
    "In this Challenge, you’ll create two financial analysis tools by using a single Jupyter notebook:\n",
    "\n",
    "Part 1: A financial planner for emergencies. The members will be able to use this tool to visualize their current savings. The members can then determine if they have enough reserves for an emergency fund.\n",
    "\n",
    "Part 2: A financial planner for retirement. This tool will forecast the performance of their retirement portfolio in 30 years. To do this, the tool will make an Alpaca API call via the Alpaca SDK to get historical price data for use in Monte Carlo simulations.\n",
    "\n",
    "You’ll use the information from the Monte Carlo simulation to answer questions about the portfolio in your Jupyter notebook.\n",
    "\n"
   ]
  },
  {
   "cell_type": "code",
   "execution_count": 1,
   "metadata": {},
   "outputs": [],
   "source": [
    "# Import the required libraries and dependencies\n",
    "import os\n",
    "import requests\n",
    "import json\n",
    "import pandas as pd\n",
    "from dotenv import load_dotenv\n",
    "import alpaca_trade_api as tradeapi\n",
    "from MCForecastTools import MCSimulation\n",
    "\n",
    "%matplotlib inline"
   ]
  },
  {
   "cell_type": "code",
   "execution_count": 2,
   "metadata": {},
   "outputs": [
    {
     "data": {
      "text/plain": [
       "True"
      ]
     },
     "execution_count": 2,
     "metadata": {},
     "output_type": "execute_result"
    }
   ],
   "source": [
    "# Load the environment variables from the .env file\n",
    "#by calling the load_dotenv function\n",
    "load_dotenv()"
   ]
  },
  {
   "cell_type": "markdown",
   "metadata": {},
   "source": [
    "## Part 1: Create a Financial Planner for Emergencies"
   ]
  },
  {
   "cell_type": "markdown",
   "metadata": {},
   "source": [
    "### Evaluate the Cryptocurrency Wallet by Using the Requests Library\n",
    "\n",
    "In this section, you’ll determine the current value of a member’s cryptocurrency wallet. You’ll collect the current prices for the Bitcoin and Ethereum cryptocurrencies by using the Python Requests library. For the prototype, you’ll assume that the member holds the 1.2 Bitcoins (BTC) and 5.3 Ethereum coins (ETH). To do all this, complete the following steps:\n",
    "\n",
    "1. Create a variable named `monthly_income`, and set its value to `12000`.\n",
    "\n",
    "2. Use the Requests library to get the current price (in US dollars) of Bitcoin (BTC) and Ethereum (ETH) by using the API endpoints that the starter code supplies.\n",
    "\n",
    "3. Navigate the JSON response object to access the current price of each coin, and store each in a variable.\n",
    "\n",
    "    > **Hint** Note the specific identifier for each cryptocurrency in the API JSON response. The Bitcoin identifier is `1`, and the Ethereum identifier is `1027`.\n",
    "\n",
    "4. Calculate the value, in US dollars, of the current amount of each cryptocurrency and of the entire cryptocurrency wallet.\n",
    "\n"
   ]
  },
  {
   "cell_type": "code",
   "execution_count": 3,
   "metadata": {},
   "outputs": [],
   "source": [
    "# The current number of coins for each cryptocurrency asset held in the portfolio.\n",
    "btc_coins = 1.2\n",
    "eth_coins = 5.3"
   ]
  },
  {
   "cell_type": "markdown",
   "metadata": {},
   "source": [
    "#### Step 1: Create a variable named `monthly_income`, and set its value to `12000`."
   ]
  },
  {
   "cell_type": "code",
   "execution_count": 4,
   "metadata": {},
   "outputs": [],
   "source": [
    "# The monthly amount for the member's household income\n",
    "# set monthly_income variable to 12000\n",
    "monthly_income = 12000\n"
   ]
  },
  {
   "cell_type": "markdown",
   "metadata": {},
   "source": [
    "#### Review the endpoint URLs for the API calls to Free Crypto API in order to get the current pricing information for both BTC and ETH."
   ]
  },
  {
   "cell_type": "code",
   "execution_count": 5,
   "metadata": {},
   "outputs": [],
   "source": [
    "# The Free Crypto API Call endpoint URLs for the held cryptocurrency assets\n",
    "btc_url = \"https://api.alternative.me/v2/ticker/Bitcoin/?convert=USD\"\n",
    "eth_url = \"https://api.alternative.me/v2/ticker/Ethereum/?convert=USD\""
   ]
  },
  {
   "cell_type": "markdown",
   "metadata": {},
   "source": [
    "#### Step 2. Use the Requests library to get the current price (in US dollars) of Bitcoin (BTC) and Ethereum (ETH) by using the API endpoints that the starter code supplied."
   ]
  },
  {
   "cell_type": "code",
   "execution_count": 6,
   "metadata": {},
   "outputs": [
    {
     "name": "stdout",
     "output_type": "stream",
     "text": [
      "{\n",
      "     \"data\": {\n",
      "          \"1\": {\n",
      "               \"circulating_supply\": 18747112,\n",
      "               \"id\": 1,\n",
      "               \"last_updated\": 1625341446,\n",
      "               \"max_supply\": 21000000,\n",
      "               \"name\": \"Bitcoin\",\n",
      "               \"quotes\": {\n",
      "                    \"USD\": {\n",
      "                         \"market_cap\": 651114415129,\n",
      "                         \"percent_change_1h\": 0.13381550172493,\n",
      "                         \"percent_change_24h\": 4.20951987693754,\n",
      "                         \"percent_change_7d\": 8.78025281834397,\n",
      "                         \"percentage_change_1h\": 0.13381550172493,\n",
      "                         \"percentage_change_24h\": 4.20951987693754,\n",
      "                         \"percentage_change_7d\": 8.78025281834397,\n",
      "                         \"price\": 34748.0,\n",
      "                         \"volume_24h\": 22732924174\n",
      "                    }\n",
      "               },\n",
      "               \"rank\": 1,\n",
      "               \"symbol\": \"BTC\",\n",
      "               \"total_supply\": 18747112,\n",
      "               \"website_slug\": \"bitcoin\"\n",
      "          }\n",
      "     },\n",
      "     \"metadata\": {\n",
      "          \"error\": null,\n",
      "          \"num_cryptocurrencies\": 1279,\n",
      "          \"timestamp\": 1625341446\n",
      "     }\n",
      "}\n"
     ]
    }
   ],
   "source": [
    "# Using the Python requests library, make an API call to access the current price of BTC\n",
    "# The line below makes an API request and displays the response data in JSON format for the new variable btc_response\n",
    "btc_response = requests.get(btc_url).json()\n",
    "\n",
    "# Use the json.dumps function to review the response data from the API call\n",
    "# Use the indent and sort_keys parameters to make the response object readable\n",
    "# The line below reformats the raw JSON data into a readable format\n",
    "print(json.dumps(btc_response, indent = 5, sort_keys =  True))"
   ]
  },
  {
   "cell_type": "code",
   "execution_count": 7,
   "metadata": {},
   "outputs": [
    {
     "name": "stdout",
     "output_type": "stream",
     "text": [
      "{\n",
      "     \"data\": {\n",
      "          \"1027\": {\n",
      "               \"circulating_supply\": 116545824,\n",
      "               \"id\": 1027,\n",
      "               \"last_updated\": 1625341446,\n",
      "               \"max_supply\": 0,\n",
      "               \"name\": \"Ethereum\",\n",
      "               \"quotes\": {\n",
      "                    \"USD\": {\n",
      "                         \"market_cap\": 259428753052,\n",
      "                         \"percent_change_1h\": 0.288850170035493,\n",
      "                         \"percent_change_24h\": 5.90278325873523,\n",
      "                         \"percent_change_7d\": 21.3762836505722,\n",
      "                         \"percentage_change_1h\": 0.288850170035493,\n",
      "                         \"percentage_change_24h\": 5.90278325873523,\n",
      "                         \"percentage_change_7d\": 21.3762836505722,\n",
      "                         \"price\": 2225.39,\n",
      "                         \"volume_24h\": 20106826433\n",
      "                    }\n",
      "               },\n",
      "               \"rank\": 2,\n",
      "               \"symbol\": \"ETH\",\n",
      "               \"total_supply\": 116545824,\n",
      "               \"website_slug\": \"ethereum\"\n",
      "          }\n",
      "     },\n",
      "     \"metadata\": {\n",
      "          \"error\": null,\n",
      "          \"num_cryptocurrencies\": 1279,\n",
      "          \"timestamp\": 1625341446\n",
      "     }\n",
      "}\n"
     ]
    }
   ],
   "source": [
    "# Using the Python requests library, make an API call to access the current price ETH\n",
    "# The line below makes an API request and displays the response data in JSON format for the new variable eth_response\n",
    "eth_response = requests.get(eth_url).json()\n",
    "\n",
    "# Use the json.dumps function to review the response data from the API call\n",
    "# Use the indent and sort_keys parameters to make the response object readable\n",
    "# The line below reformats the raw JSON data into a readable format\n",
    "print(json.dumps(eth_response, indent = 5, sort_keys = True))"
   ]
  },
  {
   "cell_type": "markdown",
   "metadata": {},
   "source": [
    "#### Step 3: Navigate the JSON response object to access the current price of each coin, and store each in a variable."
   ]
  },
  {
   "cell_type": "code",
   "execution_count": 8,
   "metadata": {},
   "outputs": [
    {
     "name": "stdout",
     "output_type": "stream",
     "text": [
      " The current price of BTC is $34748.00\n"
     ]
    }
   ],
   "source": [
    "# Navigate the BTC response object to access the current price of BTC\n",
    "# The line below sets the btc_price variable to the USD price by accessing the price from the btc_reponse data\n",
    "btc_price = btc_response [\"data\"][\"1\"][\"quotes\"][\"USD\"][\"price\"]\n",
    "\n",
    "    \n",
    "# Print the current price of BTC\n",
    "# Below uses print and f\" to create a string and pass in the variable btc_price\n",
    "print(f\" The current price of BTC is ${btc_price:.2f}\")"
   ]
  },
  {
   "cell_type": "code",
   "execution_count": 9,
   "metadata": {},
   "outputs": [
    {
     "name": "stdout",
     "output_type": "stream",
     "text": [
      " The current ETH price is $2225.39\n"
     ]
    }
   ],
   "source": [
    "# Navigate the BTC response object to access the current price of ETH\n",
    "# The line below sets the eth_price variable to the USD price by accessing the price from the eth_reponse data\n",
    "eth_price = eth_response[\"data\"][\"1027\"][\"quotes\"][\"USD\"][\"price\"]\n",
    "\n",
    "# Print the current price of ETH\n",
    "# Below uses print and f\" to create a string and pass in the variable eth_price\n",
    "print(f\" The current ETH price is ${eth_price:.2f}\")"
   ]
  },
  {
   "cell_type": "markdown",
   "metadata": {},
   "source": [
    "### Step 4: Calculate the value, in US dollars, of the current amount of each cryptocurrency and of the entire cryptocurrency wallet."
   ]
  },
  {
   "cell_type": "code",
   "execution_count": 10,
   "metadata": {},
   "outputs": [
    {
     "name": "stdout",
     "output_type": "stream",
     "text": [
      " The current value of BTC in the cryptocurrency wallet is $4.2e+04\n"
     ]
    }
   ],
   "source": [
    "# Compute the current value of the BTC holding \n",
    "# below multiply the number of coins by the current value using the variables created previously\n",
    "btc_value = btc_coins * btc_price\n",
    "\n",
    "# Print current value of your holding in BTC\n",
    "# Below uses print and f\" to create a string and pass in the variable btc_value to display current value held in the cryptocurrency wallet\n",
    "print(f\" The current value of BTC in the cryptocurrency wallet is ${btc_value:.2}\")"
   ]
  },
  {
   "cell_type": "code",
   "execution_count": 11,
   "metadata": {},
   "outputs": [
    {
     "name": "stdout",
     "output_type": "stream",
     "text": [
      " The current value of ETH in the cryptocurrency wallet is $1.2e+04\n"
     ]
    }
   ],
   "source": [
    "# Compute the current value of the ETH holding \n",
    "# below multiply the number of coins by the current value using the variables created previously\n",
    "eth_value = eth_coins * eth_price\n",
    "\n",
    "# Print current value of your holding in ETH\n",
    "# Below uses print and f\" to create a string and pass in the variable eth_value to display current value held in the cryptocurrency wallet\n",
    "print(f\" The current value of ETH in the cryptocurrency wallet is ${eth_value:.2}\")"
   ]
  },
  {
   "cell_type": "code",
   "execution_count": 12,
   "metadata": {},
   "outputs": [
    {
     "name": "stdout",
     "output_type": "stream",
     "text": [
      " The current total value of the cryptocurrency wallet is $5.3e+04\n"
     ]
    }
   ],
   "source": [
    "# Compute the total value of the cryptocurrency wallet\n",
    "# The line below creates a new variable that represents the total value of the cryptocurrency wallet by adding the value of the BTC holding to the value of the ETH holding\n",
    "total_crypto_wallet = btc_value + eth_value\n",
    "\n",
    "# Print current cryptocurrency wallet balance\n",
    "# Below uses print and f\" to create a string and pass in the variable total_crypto_wallet to display current total value held in the cryptocurrency wallet\n",
    "print(f\" The current total value of the cryptocurrency wallet is ${total_crypto_wallet:.2}\")"
   ]
  },
  {
   "cell_type": "markdown",
   "metadata": {},
   "source": [
    "### Evaluate the Stock and Bond Holdings by Using the Alpaca SDK\n",
    "\n",
    "In this section, you’ll determine the current value of a member’s stock and bond holdings. You’ll make an API call to Alpaca via the Alpaca SDK to get the current closing prices of the SPDR S&P 500 ETF Trust (ticker: SPY) and of the iShares Core US Aggregate Bond ETF (ticker: AGG). For the prototype, assume that the member holds 110 shares of SPY, which represents the stock portion of their portfolio, and 200 shares of AGG, which represents the bond portion. To do all this, complete the following steps:\n",
    "\n",
    "1. In the `Starter_Code` folder, create an environment file (`.env`) to store the values of your Alpaca API key and Alpaca secret key.\n",
    "\n",
    "2. Set the variables for the Alpaca API and secret keys. Using the Alpaca SDK, create the Alpaca `tradeapi.REST` object. In this object, include the parameters for the Alpaca API key, the secret key, and the version number.\n",
    "\n",
    "3. Set the following parameters for the Alpaca API call:\n",
    "\n",
    "    - `tickers`: Use the tickers for the member’s stock and bond holdings.\n",
    "\n",
    "    - `timeframe`: Use a time frame of one day.\n",
    "\n",
    "    - `start_date` and `end_date`: Use the same date for these parameters, and format them with the date of the previous weekday (or `2020-08-07`). This is because you want the one closing price for the most-recent trading day.\n",
    "\n",
    "4. Get the current closing prices for `SPY` and `AGG` by using the Alpaca `get_barset` function. Format the response as a Pandas DataFrame by including the `df` property at the end of the `get_barset` function.\n",
    "\n",
    "5. Navigating the Alpaca response DataFrame, select the `SPY` and `AGG` closing prices, and store them as variables.\n",
    "\n",
    "6. Calculate the value, in US dollars, of the current amount of shares in each of the stock and bond portions of the portfolio, and print the results.\n"
   ]
  },
  {
   "cell_type": "markdown",
   "metadata": {},
   "source": [
    "#### Review the total number of shares held in both (SPY) and (AGG)."
   ]
  },
  {
   "cell_type": "code",
   "execution_count": 13,
   "metadata": {},
   "outputs": [],
   "source": [
    "# Current amount of shares held in both the stock (SPY) and bond (AGG) portion of the portfolio.\n",
    "spy_shares = 110\n",
    "agg_shares = 200\n"
   ]
  },
  {
   "cell_type": "markdown",
   "metadata": {},
   "source": [
    "#### Step 1: In the `Starter_Code` folder, create an environment file (`.env`) to store the values of your Alpaca API key and Alpaca secret key."
   ]
  },
  {
   "cell_type": "markdown",
   "metadata": {},
   "source": [
    "#### Step 2: Set the variables for the Alpaca API and secret keys. Using the Alpaca SDK, create the Alpaca `tradeapi.REST` object. In this object, include the parameters for the Alpaca API key, the secret key, and the version number."
   ]
  },
  {
   "cell_type": "code",
   "execution_count": 14,
   "metadata": {},
   "outputs": [
    {
     "name": "stdout",
     "output_type": "stream",
     "text": [
      "PKRQWG6PTQ6RY0TCONWZ\n",
      "MbEBV79vnryBOX5Wa8Cj4w67jZ1Ptb55MjpJeOXV\n"
     ]
    }
   ],
   "source": [
    "# Set the variables for the Alpaca API and secret keys\n",
    "# Below sets the new variables to the API keys that were stored in the .env file\n",
    "alpaca_api_key = os.getenv(\"ALPACA_API_KEY\")\n",
    "alpaca_secret_key = os.getenv(\"ALPACA_API_SECRET_KEY\") \n",
    "print(alpaca_api_key)\n",
    "print(alpaca_secret_key)\n",
    "\n",
    "# Create the Alpaca tradeapi.REST object\n",
    "# Below sets your keys and version to the Alpaca SDK\n",
    "alpaca = tradeapi.REST(\n",
    "    alpaca_api_key,\n",
    "    alpaca_secret_key,\n",
    "    api_version = \"v2\")\n"
   ]
  },
  {
   "cell_type": "markdown",
   "metadata": {},
   "source": [
    "#### Step 3: Set the following parameters for the Alpaca API call:\n",
    "\n",
    "- `tickers`: Use the tickers for the member’s stock and bond holdings.\n",
    "\n",
    "- `timeframe`: Use a time frame of one day.\n",
    "\n",
    "- `start_date` and `end_date`: Use the same date for these parameters, and format them with the date of the previous weekday (or `2020-08-07`). This is because you want the one closing price for the most-recent trading day.\n"
   ]
  },
  {
   "cell_type": "code",
   "execution_count": 15,
   "metadata": {},
   "outputs": [],
   "source": [
    "# Set the tickers for both the bond and stock portion of the portfolio\n",
    "# The list below holds both the bond and stock tickers \n",
    "tickers = [\"SPY\", \"AGG\"]\n",
    "\n",
    "# Set timeframe to 1D \n",
    "# Below sets the variable to 1 day to be used in the Alpaca API\n",
    "timeframe = \"1D\"\n",
    "\n",
    "# Format current date as ISO format\n",
    "# Set both the start and end date at the date of your prior weekday \n",
    "# This will give you the closing price of the previous trading day\n",
    "# Alternatively you can use a start and end date of 2020-08-07\n",
    "# Below sets the start day and end date in the iso format(YYYY-MM-DD) in the newyork timezone\n",
    "start_date = pd.Timestamp(\"2020-08-07\", tz= \"America/New_York\").isoformat()\n",
    "end_date = pd.Timestamp(\"2020-08-07\", tz= \"America/New_York\").isoformat()\n"
   ]
  },
  {
   "cell_type": "markdown",
   "metadata": {},
   "source": [
    "#### Step 4: Get the current closing prices for `SPY` and `AGG` by using the Alpaca `get_barset` function. Format the response as a Pandas DataFrame by including the `df` property at the end of the `get_barset` function."
   ]
  },
  {
   "cell_type": "code",
   "execution_count": 16,
   "metadata": {},
   "outputs": [
    {
     "data": {
      "text/html": [
       "<div>\n",
       "<style scoped>\n",
       "    .dataframe tbody tr th:only-of-type {\n",
       "        vertical-align: middle;\n",
       "    }\n",
       "\n",
       "    .dataframe tbody tr th {\n",
       "        vertical-align: top;\n",
       "    }\n",
       "\n",
       "    .dataframe thead tr th {\n",
       "        text-align: left;\n",
       "    }\n",
       "\n",
       "    .dataframe thead tr:last-of-type th {\n",
       "        text-align: right;\n",
       "    }\n",
       "</style>\n",
       "<table border=\"1\" class=\"dataframe\">\n",
       "  <thead>\n",
       "    <tr>\n",
       "      <th></th>\n",
       "      <th colspan=\"5\" halign=\"left\">AGG</th>\n",
       "      <th colspan=\"5\" halign=\"left\">SPY</th>\n",
       "    </tr>\n",
       "    <tr>\n",
       "      <th></th>\n",
       "      <th>open</th>\n",
       "      <th>high</th>\n",
       "      <th>low</th>\n",
       "      <th>close</th>\n",
       "      <th>volume</th>\n",
       "      <th>open</th>\n",
       "      <th>high</th>\n",
       "      <th>low</th>\n",
       "      <th>close</th>\n",
       "      <th>volume</th>\n",
       "    </tr>\n",
       "    <tr>\n",
       "      <th>time</th>\n",
       "      <th></th>\n",
       "      <th></th>\n",
       "      <th></th>\n",
       "      <th></th>\n",
       "      <th></th>\n",
       "      <th></th>\n",
       "      <th></th>\n",
       "      <th></th>\n",
       "      <th></th>\n",
       "      <th></th>\n",
       "    </tr>\n",
       "  </thead>\n",
       "  <tbody>\n",
       "    <tr>\n",
       "      <th>2020-08-07 00:00:00-04:00</th>\n",
       "      <td>119.66</td>\n",
       "      <td>119.73</td>\n",
       "      <td>119.395</td>\n",
       "      <td>119.445</td>\n",
       "      <td>8830420</td>\n",
       "      <td>333.28</td>\n",
       "      <td>334.88</td>\n",
       "      <td>332.3</td>\n",
       "      <td>334.55</td>\n",
       "      <td>98710236</td>\n",
       "    </tr>\n",
       "  </tbody>\n",
       "</table>\n",
       "</div>"
      ],
      "text/plain": [
       "                              AGG                                        SPY  \\\n",
       "                             open    high      low    close   volume    open   \n",
       "time                                                                           \n",
       "2020-08-07 00:00:00-04:00  119.66  119.73  119.395  119.445  8830420  333.28   \n",
       "\n",
       "                                                            \n",
       "                             high    low   close    volume  \n",
       "time                                                        \n",
       "2020-08-07 00:00:00-04:00  334.88  332.3  334.55  98710236  "
      ]
     },
     "execution_count": 16,
     "metadata": {},
     "output_type": "execute_result"
    }
   ],
   "source": [
    "# Use the Alpaca get_barset function to get current closing prices the portfolio\n",
    "# Be sure to set the `df` property after the function to format the response object as a DataFrame\n",
    "# Below will make an Alpaca API call to retrieve the tickers data (SPY and AGG) and grab the data between the start_date and the end_date that were set in the step 3\n",
    "df_potfolio_prices = alpaca.get_barset(\n",
    "    tickers,\n",
    "    timeframe,\n",
    "    start = start_date,\n",
    "    end = end_date\n",
    ").df\n",
    "\n",
    "# Review the first 5 rows of the Alpaca DataFrame\n",
    "df_potfolio_prices.head()\n"
   ]
  },
  {
   "cell_type": "markdown",
   "metadata": {},
   "source": [
    "#### Step 5: Navigating the Alpaca response DataFrame, select the `SPY` and `AGG` closing prices, and store them as variables."
   ]
  },
  {
   "cell_type": "code",
   "execution_count": 17,
   "metadata": {},
   "outputs": [
    {
     "name": "stdout",
     "output_type": "stream",
     "text": [
      " AGG closing prices $1.2e+02\n"
     ]
    }
   ],
   "source": [
    "# Access the closing price for AGG from the Alpaca DataFrame\n",
    "# Converting the value to a floating point number\n",
    "agg_close_price = df_potfolio_prices[\"AGG\"][\"close\"][0]\n",
    "\n",
    "# Print the AGG closing price\n",
    "print(f\" AGG closing prices ${agg_close_price:.2}\")\n"
   ]
  },
  {
   "cell_type": "code",
   "execution_count": 18,
   "metadata": {},
   "outputs": [
    {
     "name": "stdout",
     "output_type": "stream",
     "text": [
      " SPY closing prices $3.3e+02\n"
     ]
    }
   ],
   "source": [
    "# Access the closing price for SPY from the Alpaca DataFrame\n",
    "# Converting the value to a floating point number\n",
    "spy_close_price = df_potfolio_prices[\"SPY\"][\"close\"][0]\n",
    "\n",
    "# Print the SPY closing price\n",
    "print(f\" SPY closing prices ${spy_close_price:.2}\")\n"
   ]
  },
  {
   "cell_type": "markdown",
   "metadata": {},
   "source": [
    "#### Step 6: Calculate the value, in US dollars, of the current amount of shares in each of the stock and bond portions of the portfolio, and print the results."
   ]
  },
  {
   "cell_type": "code",
   "execution_count": 19,
   "metadata": {},
   "outputs": [
    {
     "name": "stdout",
     "output_type": "stream",
     "text": [
      " The current value of the bond portfolio is $23889.00\n"
     ]
    }
   ],
   "source": [
    "# Calculate the current value of the bond portion of the portfolio\n",
    "# Below creates a new variable to hold the current value of the bond by multiplying the current number of shares by the current bond value\n",
    "agg_value = agg_shares * agg_close_price\n",
    "\n",
    "# Print the current value of the bond portfolio\n",
    "print(f\" The current value of the bond portfolio is ${agg_value:.2f}\")\n"
   ]
  },
  {
   "cell_type": "code",
   "execution_count": 20,
   "metadata": {},
   "outputs": [
    {
     "name": "stdout",
     "output_type": "stream",
     "text": [
      " The current value of the stock portfolio is $36800.50\n"
     ]
    }
   ],
   "source": [
    "# Calculate the current value of the stock portion of the portfolio\n",
    "# Below creates a new variable to hold the current value of the stocks by multiplying the current number of shares by the current share value\n",
    "spy_value = spy_shares * spy_close_price\n",
    "\n",
    "# Print the current value of the stock portfolio\n",
    "print(f\" The current value of the stock portfolio is ${spy_value:.2f}\")\n"
   ]
  },
  {
   "cell_type": "code",
   "execution_count": 21,
   "metadata": {},
   "outputs": [
    {
     "name": "stdout",
     "output_type": "stream",
     "text": [
      "The current balance of the stock and bond portion of the portfolio is $60689.5\n"
     ]
    }
   ],
   "source": [
    "# Calculate the total value of the stock and bond portion of the portfolio\n",
    "# The new variable below total_stocks_bonds is the current total value of the stock & bond portfolio by adding the current bond and stock values together\n",
    "total_stocks_bonds = agg_value + spy_value\n",
    "\n",
    "# Print the current balance of the stock and bond portion of the portfolio\n",
    "print(f\"The current balance of the stock and bond portion of the portfolio is ${total_stocks_bonds}\")\n"
   ]
  },
  {
   "cell_type": "code",
   "execution_count": 22,
   "metadata": {},
   "outputs": [
    {
     "name": "stdout",
     "output_type": "stream",
     "text": [
      " The current value of the total portfolio is $114181.67\n"
     ]
    }
   ],
   "source": [
    "# Calculate the total value of the member's entire savings portfolio\n",
    "# Add the value of the cryptocurrency wallet to the value of the total stocks and bonds\n",
    "# Below is the total current value of the portfolio including the crypto wallet\n",
    "total_portfolio = total_stocks_bonds + total_crypto_wallet\n",
    "\n",
    "# Print the total_portfolio\n",
    "print(f\" The current value of the total portfolio is ${total_portfolio:.2f}\")\n"
   ]
  },
  {
   "cell_type": "markdown",
   "metadata": {},
   "source": [
    "### Evaluate the Emergency Fund\n",
    "\n",
    "In this section, you’ll use the valuations for the cryptocurrency wallet and for the stock and bond portions of the portfolio to determine if the credit union member has enough savings to build an emergency fund into their financial plan. To do this, complete the following steps:\n",
    "\n",
    "1. Create a Python list named `savings_data` that has two elements. The first element contains the total value of the cryptocurrency wallet. The second element contains the total value of the stock and bond portions of the portfolio.\n",
    "\n",
    "2. Use the `savings_data` list to create a Pandas DataFrame named `savings_df`, and then display this DataFrame. The function to create the DataFrame should take the following three parameters:\n",
    "\n",
    "    - `savings_data`: Use the list that you just created.\n",
    "\n",
    "    - `columns`: Set this parameter equal to a Python list with a single value called `amount`.\n",
    "\n",
    "    - `index`: Set this parameter equal to a Python list with the values of `crypto` and `stock/bond`.\n",
    "\n",
    "3. Use the `savings_df` DataFrame to plot a pie chart that visualizes the composition of the member’s portfolio. The y-axis of the pie chart uses `amount`. Be sure to add a title.\n",
    "\n",
    "4. Using Python, determine if the current portfolio has enough to create an emergency fund as part of the member’s financial plan. Ideally, an emergency fund should equal to three times the member’s monthly income. To do this, implement the following steps:\n",
    "\n",
    "    1. Create a variable named `emergency_fund_value`, and set it equal to three times the value of the member’s `monthly_income` of $12000. (You set this earlier in Part 1).\n",
    "\n",
    "    2. Create a series of three if statements to determine if the member’s total portfolio is large enough to fund the emergency portfolio:\n",
    "\n",
    "        1. If the total portfolio value is greater than the emergency fund value, display a message congratulating the member for having enough money in this fund.\n",
    "\n",
    "        2. Else if the total portfolio value is equal to the emergency fund value, display a message congratulating the member on reaching this important financial goal.\n",
    "\n",
    "        3. Else the total portfolio is less than the emergency fund value, so display a message showing how many dollars away the member is from reaching the goal. (Subtract the total portfolio value from the emergency fund value.)\n"
   ]
  },
  {
   "cell_type": "markdown",
   "metadata": {},
   "source": [
    "#### Step 1: Create a Python list named `savings_data` that has two elements. The first element contains the total value of the cryptocurrency wallet. The second element contains the total value of the stock and bond portions of the portfolio."
   ]
  },
  {
   "cell_type": "code",
   "execution_count": 23,
   "metadata": {},
   "outputs": [
    {
     "data": {
      "text/plain": [
       "[60689.5, 53492.167]"
      ]
     },
     "execution_count": 23,
     "metadata": {},
     "output_type": "execute_result"
    }
   ],
   "source": [
    "# Consolidate financial assets data into a Python list\n",
    "# Below creates a list holding the total current value of the stock & bonds and the crypto wallet\n",
    "savings_data = [total_stocks_bonds, total_crypto_wallet]\n",
    "\n",
    "# Review the Python list savings_data\n",
    "savings_data\n",
    "    "
   ]
  },
  {
   "cell_type": "markdown",
   "metadata": {},
   "source": [
    "#### Step 2: Use the `savings_data` list to create a Pandas DataFrame named `savings_df`, and then display this DataFrame. The function to create the DataFrame should take the following three parameters:\n",
    "\n",
    "- `savings_data`: Use the list that you just created.\n",
    "\n",
    "- `columns`: Set this parameter equal to a Python list with a single value called `amount`.\n",
    "\n",
    "- `index`: Set this parameter equal to a Python list with the values of `crypto` and `stock/bond`.\n"
   ]
  },
  {
   "cell_type": "code",
   "execution_count": 24,
   "metadata": {},
   "outputs": [
    {
     "data": {
      "text/html": [
       "<div>\n",
       "<style scoped>\n",
       "    .dataframe tbody tr th:only-of-type {\n",
       "        vertical-align: middle;\n",
       "    }\n",
       "\n",
       "    .dataframe tbody tr th {\n",
       "        vertical-align: top;\n",
       "    }\n",
       "\n",
       "    .dataframe thead th {\n",
       "        text-align: right;\n",
       "    }\n",
       "</style>\n",
       "<table border=\"1\" class=\"dataframe\">\n",
       "  <thead>\n",
       "    <tr style=\"text-align: right;\">\n",
       "      <th></th>\n",
       "      <th>Current Total Value</th>\n",
       "    </tr>\n",
       "  </thead>\n",
       "  <tbody>\n",
       "    <tr>\n",
       "      <th>Stocks and Bonds</th>\n",
       "      <td>60689.500</td>\n",
       "    </tr>\n",
       "    <tr>\n",
       "      <th>Cryptocurrency</th>\n",
       "      <td>53492.167</td>\n",
       "    </tr>\n",
       "  </tbody>\n",
       "</table>\n",
       "</div>"
      ],
      "text/plain": [
       "                  Current Total Value\n",
       "Stocks and Bonds            60689.500\n",
       "Cryptocurrency              53492.167"
      ]
     },
     "execution_count": 24,
     "metadata": {},
     "output_type": "execute_result"
    }
   ],
   "source": [
    "# Create a Pandas DataFrame called savings_df \n",
    "# Below creates a new DataFrame with the list created above and setting the list as the index for the DataFrame and the columns as Current Total Value\n",
    "df_savings = pd.DataFrame(savings_data, index = [\"Stocks and Bonds\", \"Cryptocurrency\"], columns = [\"Current Total Value\"])\n",
    "\n",
    "# Display the savings_df DataFrame\n",
    "df_savings\n"
   ]
  },
  {
   "cell_type": "markdown",
   "metadata": {},
   "source": [
    "#### Step 3: Use the `savings_df` DataFrame to plot a pie chart that visualizes the composition of the member’s portfolio. The y-axis of the pie chart uses `amount`. Be sure to add a title."
   ]
  },
  {
   "cell_type": "code",
   "execution_count": 25,
   "metadata": {},
   "outputs": [
    {
     "data": {
      "text/plain": [
       "array([<AxesSubplot:ylabel='Amount'>], dtype=object)"
      ]
     },
     "execution_count": 25,
     "metadata": {},
     "output_type": "execute_result"
    },
    {
     "data": {
      "image/png": "[encoded data removed]",
      "text/plain": [
       "<Figure size 1080x1080 with 1 Axes>"
      ]
     },
     "metadata": {},
     "output_type": "display_data"
    }
   ],
   "source": [
    "# Plot the total value of the member's portfolio (crypto and stock/bond) in a pie chart\n",
    "# The code below creates a pie chart of the total current value of the portfolio\n",
    "\n",
    "df_savings.plot.pie(title = \"Current Total Value of Crypto and Stock and Bond\", subplots=True, ylabel='Amount', figsize=(15,15), autopct='%1.0f%%', pctdistance=0.5, explode=(0.025,0.025))"
   ]
  },
  {
   "cell_type": "markdown",
   "metadata": {},
   "source": [
    "#### Step 4: Using Python, determine if the current portfolio has enough to create an emergency fund as part of the member’s financial plan. Ideally, an emergency fund should equal to three times the member’s monthly income. To do this, implement the following steps:\n",
    "\n",
    "Step 1. Create a variable named `emergency_fund_value`, and set it equal to three times the value of the member’s `monthly_income` of 12000. (You set this earlier in Part 1).\n",
    "\n",
    "Step 2. Create a series of three if statements to determine if the member’s total portfolio is large enough to fund the emergency portfolio:\n",
    "\n",
    "* If the total portfolio value is greater than the emergency fund value, display a message congratulating the member for having enough money in this fund.\n",
    "\n",
    "* Else if the total portfolio value is equal to the emergency fund value, display a message congratulating the member on reaching this important financial goal.\n",
    "\n",
    "* Else the total portfolio is less than the emergency fund value, so display a message showing how many dollars away the member is from reaching the goal. (Subtract the total portfolio value from the emergency fund value.)\n"
   ]
  },
  {
   "cell_type": "markdown",
   "metadata": {},
   "source": [
    "##### Step 4-1: Create a variable named `emergency_fund_value`, and set it equal to three times the value of the member’s `monthly_income` of 12000. (You set this earlier in Part 1)."
   ]
  },
  {
   "cell_type": "code",
   "execution_count": 26,
   "metadata": {},
   "outputs": [],
   "source": [
    "# Create a variable named emergency_fund_value\n",
    "# Below the emergency fund is set to 3x the current monthly income\n",
    "emergency_fund_value = monthly_income * 3\n"
   ]
  },
  {
   "cell_type": "markdown",
   "metadata": {},
   "source": [
    "##### Step 4-2: Create a series of three if statements to determine if the member’s total portfolio is large enough to fund the emergency portfolio:\n",
    "\n",
    "* If the total portfolio value is greater than the emergency fund value, display a message congratulating the member for having enough money in this fund.\n",
    "\n",
    "* Else if the total portfolio value is equal to the emergency fund value, display a message congratulating the member on reaching this important financial goal.\n",
    "\n",
    "* Else the total portfolio is less than the emergency fund value, so display a message showing how many dollars away the member is from reaching the goal. (Subtract the total portfolio value from the emergency fund value.)"
   ]
  },
  {
   "cell_type": "code",
   "execution_count": 27,
   "metadata": {},
   "outputs": [
    {
     "name": "stdout",
     "output_type": "stream",
     "text": [
      "No the portfolio balance is insufficient to meet the required emergency portfolio fund  \n"
     ]
    }
   ],
   "source": [
    "# Evaluate the possibility of creating an emergency fund with 3 conditions:\n",
    "# Below the if elif else statements will determine if the current value of the portfolio has sufficient funds to cover the emergency fund and will generate a print statement indicating the status\n",
    "if emergency_fund_value >  total_portfolio:\n",
    "    print(\"Yes the current portfolio balance has more than enough to cover the emergency portfolio fund\")\n",
    "elif emergency_fund_value == total_portfolio:\n",
    "        print(\"Yes the current portfolio balance can cover a potential emergency fund expense\")\n",
    "else:\n",
    "        print(\"No the portfolio balance is insufficient to meet the required emergency portfolio fund  \")\n",
    "\n"
   ]
  },
  {
   "cell_type": "markdown",
   "metadata": {},
   "source": [
    "## Part 2: Create a Financial Planner for Retirement"
   ]
  },
  {
   "cell_type": "markdown",
   "metadata": {},
   "source": [
    "### Create the Monte Carlo Simulation\n",
    "\n",
    "In this section, you’ll use the MCForecastTools library to create a Monte Carlo simulation for the member’s savings portfolio. To do this, complete the following steps:\n",
    "\n",
    "1. Make an API call via the Alpaca SDK to get 10 years of historical closing prices for a traditional 60/40 portfolio split: 60% stocks (SPY) and 40% bonds (AGG).\n",
    "\n",
    "2. Run a Monte Carlo simulation of 500 samples and 30 years for the 60/40 portfolio, and then plot the results.The following image shows the overlay line plot resulting from a simulation with these characteristics. However, because a random number generator is used to run each live Monte Carlo simulation, your image will differ slightly from this exact image:\n",
    "\n",
    "![A screenshot depicts the resulting plot.](Images/5-4-monte-carlo-line-plot.png)\n",
    "\n",
    "3. Plot the probability distribution of the Monte Carlo simulation. Plot the probability distribution of the Monte Carlo simulation. The following image shows the histogram plot resulting from a simulation with these characteristics. However, because a random number generator is used to run each live Monte Carlo simulation, your image will differ slightly from this exact image:\n",
    "\n",
    "![A screenshot depicts the histogram plot.](Images/5-4-monte-carlo-histogram.png)\n",
    "\n",
    "4. Generate the summary statistics for the Monte Carlo simulation.\n",
    "\n"
   ]
  },
  {
   "cell_type": "markdown",
   "metadata": {},
   "source": [
    "#### Step 1: Make an API call via the Alpaca SDK to get 10 years of historical closing prices for a traditional 60/40 portfolio split: 60% stocks (SPY) and 40% bonds (AGG)."
   ]
  },
  {
   "cell_type": "code",
   "execution_count": 28,
   "metadata": {},
   "outputs": [],
   "source": [
    "# Set start and end dates of 10 years back from your current date\n",
    "# Alternatively, you can use an end date of 2020-08-07 and work 10 years back from that date \n",
    "\n",
    "# The start end dates below will grab the 10 years of data, however due to the size of the request the time periods were required to be broken up into smaller timeframes to pull the data\n",
    "# each pair of start & ends will need its own DataFrame\n",
    "start_date = pd.Timestamp(\"2011-06-30\", tz = \"America/New_York\").isoformat\n",
    "end_date = pd.Timestamp(\"2021-06-30\", tz = \"America/New_York\").isoformat\n",
    "\n",
    "\n"
   ]
  },
  {
   "cell_type": "code",
   "execution_count": 29,
   "metadata": {},
   "outputs": [
    {
     "data": {
      "text/html": [
       "<div>\n",
       "<style scoped>\n",
       "    .dataframe tbody tr th:only-of-type {\n",
       "        vertical-align: middle;\n",
       "    }\n",
       "\n",
       "    .dataframe tbody tr th {\n",
       "        vertical-align: top;\n",
       "    }\n",
       "\n",
       "    .dataframe thead tr th {\n",
       "        text-align: left;\n",
       "    }\n",
       "\n",
       "    .dataframe thead tr:last-of-type th {\n",
       "        text-align: right;\n",
       "    }\n",
       "</style>\n",
       "<table border=\"1\" class=\"dataframe\">\n",
       "  <thead>\n",
       "    <tr>\n",
       "      <th></th>\n",
       "      <th colspan=\"5\" halign=\"left\">AGG</th>\n",
       "      <th colspan=\"5\" halign=\"left\">SPY</th>\n",
       "    </tr>\n",
       "    <tr>\n",
       "      <th></th>\n",
       "      <th>open</th>\n",
       "      <th>high</th>\n",
       "      <th>low</th>\n",
       "      <th>close</th>\n",
       "      <th>volume</th>\n",
       "      <th>open</th>\n",
       "      <th>high</th>\n",
       "      <th>low</th>\n",
       "      <th>close</th>\n",
       "      <th>volume</th>\n",
       "    </tr>\n",
       "    <tr>\n",
       "      <th>time</th>\n",
       "      <th></th>\n",
       "      <th></th>\n",
       "      <th></th>\n",
       "      <th></th>\n",
       "      <th></th>\n",
       "      <th></th>\n",
       "      <th></th>\n",
       "      <th></th>\n",
       "      <th></th>\n",
       "      <th></th>\n",
       "    </tr>\n",
       "  </thead>\n",
       "  <tbody>\n",
       "    <tr>\n",
       "      <th>2017-07-13 00:00:00-04:00</th>\n",
       "      <td>546.45</td>\n",
       "      <td>546.559</td>\n",
       "      <td>545.650</td>\n",
       "      <td>546.200</td>\n",
       "      <td>7163300.0</td>\n",
       "      <td>NaN</td>\n",
       "      <td>NaN</td>\n",
       "      <td>NaN</td>\n",
       "      <td>NaN</td>\n",
       "      <td>NaN</td>\n",
       "    </tr>\n",
       "    <tr>\n",
       "      <th>2017-07-14 00:00:00-04:00</th>\n",
       "      <td>547.70</td>\n",
       "      <td>547.800</td>\n",
       "      <td>546.450</td>\n",
       "      <td>546.800</td>\n",
       "      <td>8723850.0</td>\n",
       "      <td>1222.10</td>\n",
       "      <td>1229.85</td>\n",
       "      <td>1221.550</td>\n",
       "      <td>1227.70</td>\n",
       "      <td>203790190.0</td>\n",
       "    </tr>\n",
       "    <tr>\n",
       "      <th>2017-07-17 00:00:00-04:00</th>\n",
       "      <td>547.00</td>\n",
       "      <td>547.400</td>\n",
       "      <td>546.600</td>\n",
       "      <td>547.050</td>\n",
       "      <td>9552720.0</td>\n",
       "      <td>1227.35</td>\n",
       "      <td>1229.55</td>\n",
       "      <td>1226.650</td>\n",
       "      <td>1227.55</td>\n",
       "      <td>111894855.0</td>\n",
       "    </tr>\n",
       "    <tr>\n",
       "      <th>2017-07-18 00:00:00-04:00</th>\n",
       "      <td>548.20</td>\n",
       "      <td>548.550</td>\n",
       "      <td>547.900</td>\n",
       "      <td>548.400</td>\n",
       "      <td>12355850.0</td>\n",
       "      <td>1225.30</td>\n",
       "      <td>1228.60</td>\n",
       "      <td>1223.350</td>\n",
       "      <td>1228.45</td>\n",
       "      <td>158477470.0</td>\n",
       "    </tr>\n",
       "    <tr>\n",
       "      <th>2017-07-19 00:00:00-04:00</th>\n",
       "      <td>548.60</td>\n",
       "      <td>548.750</td>\n",
       "      <td>548.150</td>\n",
       "      <td>548.500</td>\n",
       "      <td>7026445.0</td>\n",
       "      <td>1230.10</td>\n",
       "      <td>1235.00</td>\n",
       "      <td>1230.050</td>\n",
       "      <td>1234.95</td>\n",
       "      <td>155038690.0</td>\n",
       "    </tr>\n",
       "    <tr>\n",
       "      <th>...</th>\n",
       "      <td>...</td>\n",
       "      <td>...</td>\n",
       "      <td>...</td>\n",
       "      <td>...</td>\n",
       "      <td>...</td>\n",
       "      <td>...</td>\n",
       "      <td>...</td>\n",
       "      <td>...</td>\n",
       "      <td>...</td>\n",
       "      <td>...</td>\n",
       "    </tr>\n",
       "    <tr>\n",
       "      <th>2021-06-28 00:00:00-04:00</th>\n",
       "      <td>575.20</td>\n",
       "      <td>576.150</td>\n",
       "      <td>575.200</td>\n",
       "      <td>575.800</td>\n",
       "      <td>27618450.0</td>\n",
       "      <td>2135.85</td>\n",
       "      <td>2138.25</td>\n",
       "      <td>2129.450</td>\n",
       "      <td>2137.40</td>\n",
       "      <td>219686865.0</td>\n",
       "    </tr>\n",
       "    <tr>\n",
       "      <th>2021-06-29 00:00:00-04:00</th>\n",
       "      <td>575.30</td>\n",
       "      <td>576.250</td>\n",
       "      <td>575.225</td>\n",
       "      <td>576.250</td>\n",
       "      <td>17347025.0</td>\n",
       "      <td>2139.45</td>\n",
       "      <td>2142.80</td>\n",
       "      <td>2135.650</td>\n",
       "      <td>2138.40</td>\n",
       "      <td>160487860.0</td>\n",
       "    </tr>\n",
       "    <tr>\n",
       "      <th>2021-06-30 00:00:00-04:00</th>\n",
       "      <td>576.80</td>\n",
       "      <td>577.250</td>\n",
       "      <td>576.500</td>\n",
       "      <td>576.750</td>\n",
       "      <td>29921905.0</td>\n",
       "      <td>2136.00</td>\n",
       "      <td>2143.90</td>\n",
       "      <td>2135.900</td>\n",
       "      <td>2140.40</td>\n",
       "      <td>233882010.0</td>\n",
       "    </tr>\n",
       "    <tr>\n",
       "      <th>2021-07-01 00:00:00-04:00</th>\n",
       "      <td>575.75</td>\n",
       "      <td>575.950</td>\n",
       "      <td>575.050</td>\n",
       "      <td>575.575</td>\n",
       "      <td>22196630.0</td>\n",
       "      <td>2144.15</td>\n",
       "      <td>2153.00</td>\n",
       "      <td>2144.000</td>\n",
       "      <td>2152.35</td>\n",
       "      <td>220739175.0</td>\n",
       "    </tr>\n",
       "    <tr>\n",
       "      <th>2021-07-02 00:00:00-04:00</th>\n",
       "      <td>576.15</td>\n",
       "      <td>576.850</td>\n",
       "      <td>575.850</td>\n",
       "      <td>576.850</td>\n",
       "      <td>21097470.0</td>\n",
       "      <td>2158.35</td>\n",
       "      <td>2170.50</td>\n",
       "      <td>2152.609</td>\n",
       "      <td>2168.75</td>\n",
       "      <td>232785350.0</td>\n",
       "    </tr>\n",
       "  </tbody>\n",
       "</table>\n",
       "<p>1001 rows × 10 columns</p>\n",
       "</div>"
      ],
      "text/plain": [
       "                              AGG                                         \\\n",
       "                             open     high      low    close      volume   \n",
       "time                                                                       \n",
       "2017-07-13 00:00:00-04:00  546.45  546.559  545.650  546.200   7163300.0   \n",
       "2017-07-14 00:00:00-04:00  547.70  547.800  546.450  546.800   8723850.0   \n",
       "2017-07-17 00:00:00-04:00  547.00  547.400  546.600  547.050   9552720.0   \n",
       "2017-07-18 00:00:00-04:00  548.20  548.550  547.900  548.400  12355850.0   \n",
       "2017-07-19 00:00:00-04:00  548.60  548.750  548.150  548.500   7026445.0   \n",
       "...                           ...      ...      ...      ...         ...   \n",
       "2021-06-28 00:00:00-04:00  575.20  576.150  575.200  575.800  27618450.0   \n",
       "2021-06-29 00:00:00-04:00  575.30  576.250  575.225  576.250  17347025.0   \n",
       "2021-06-30 00:00:00-04:00  576.80  577.250  576.500  576.750  29921905.0   \n",
       "2021-07-01 00:00:00-04:00  575.75  575.950  575.050  575.575  22196630.0   \n",
       "2021-07-02 00:00:00-04:00  576.15  576.850  575.850  576.850  21097470.0   \n",
       "\n",
       "                               SPY                                           \n",
       "                              open     high       low    close       volume  \n",
       "time                                                                         \n",
       "2017-07-13 00:00:00-04:00      NaN      NaN       NaN      NaN          NaN  \n",
       "2017-07-14 00:00:00-04:00  1222.10  1229.85  1221.550  1227.70  203790190.0  \n",
       "2017-07-17 00:00:00-04:00  1227.35  1229.55  1226.650  1227.55  111894855.0  \n",
       "2017-07-18 00:00:00-04:00  1225.30  1228.60  1223.350  1228.45  158477470.0  \n",
       "2017-07-19 00:00:00-04:00  1230.10  1235.00  1230.050  1234.95  155038690.0  \n",
       "...                            ...      ...       ...      ...          ...  \n",
       "2021-06-28 00:00:00-04:00  2135.85  2138.25  2129.450  2137.40  219686865.0  \n",
       "2021-06-29 00:00:00-04:00  2139.45  2142.80  2135.650  2138.40  160487860.0  \n",
       "2021-06-30 00:00:00-04:00  2136.00  2143.90  2135.900  2140.40  233882010.0  \n",
       "2021-07-01 00:00:00-04:00  2144.15  2153.00  2144.000  2152.35  220739175.0  \n",
       "2021-07-02 00:00:00-04:00  2158.35  2170.50  2152.609  2168.75  232785350.0  \n",
       "\n",
       "[1001 rows x 10 columns]"
      ]
     },
     "metadata": {},
     "output_type": "display_data"
    }
   ],
   "source": [
    "# Use the Alpaca get_barset function to make the API call to get the 10 years worth of pricing data\n",
    "# The tickers and timeframe parameters should have been set in Part 1 of this activity \n",
    "# The start and end dates should be updated with the information set above\n",
    "# Remember to add the df property to the end of the call so the response is returned as a DataFrame\n",
    "\n",
    "#The code below creates the new DataFrames for every two years, these will need to be joined together in a master DataFrame at the end\n",
    " #1\n",
    "start_date = pd.Timestamp(\"2011-06-30\", tz = \"America/New_York\").isoformat\n",
    "end_date = pd.Timestamp(\"2013-06-30\", tz = \"America/New_York\").isoformat\n",
    "df_potfolio_prices_10yrs_1 = alpaca.get_barset(\n",
    "    tickers,\n",
    "    timeframe,\n",
    "    start = start_date,\n",
    "    end = end_date,\n",
    "    limit = 1000\n",
    ").df\n",
    "\n",
    "#2\n",
    "start_date = pd.Timestamp(\"2013-06-30\", tz = \"America/New_York\").isoformat\n",
    "end_date = pd.Timestamp(\"2015-06-30\", tz = \"America/New_York\").isoformat\n",
    "\n",
    "df_potfolio_prices_10yrs_2 = alpaca.get_barset(\n",
    "    tickers,\n",
    "    timeframe,\n",
    "    start = start_date,\n",
    "    end = end_date,\n",
    "    limit = 1000\n",
    ").df\n",
    "\n",
    "\n",
    " #3\n",
    "start_date = pd.Timestamp(\"2015-06-30\", tz = \"America/New_York\").isoformat\n",
    "end_date = pd.Timestamp(\"2017-06-30\", tz = \"America/New_York\").isoformat\n",
    "df_potfolio_prices_10yrs_3 = alpaca.get_barset(\n",
    "    tickers,\n",
    "    timeframe,\n",
    "    start = start_date,\n",
    "    end = end_date,\n",
    "    limit = 1000\n",
    ").df\n",
    "\n",
    "#4\n",
    "start_date = pd.Timestamp(\"2017-06-30\", tz = \"America/New_York\").isoformat\n",
    "end_date = pd.Timestamp(\"2019-06-30\", tz = \"America/New_York\").isoformat\n",
    "\n",
    "df_potfolio_prices_10yrs_4 = alpaca.get_barset(\n",
    "    tickers,\n",
    "    timeframe,\n",
    "    start = start_date,\n",
    "    end = end_date,\n",
    "    limit = 1000\n",
    ").df\n",
    "\n",
    "\n",
    "#5\n",
    "start_date = pd.Timestamp(\"2019-06-30\", tz = \"America/New_York\").isoformat\n",
    "end_date = pd.Timestamp(\"2121-06-30\", tz = \"America/New_York\").isoformat\n",
    "\n",
    "df_potfolio_prices_10yrs_5 = alpaca.get_barset(\n",
    "    tickers,\n",
    "    timeframe,\n",
    "    start = start_date,\n",
    "    end = end_date,\n",
    "    limit = 1000\n",
    ").df\n",
    "\n",
    "\n",
    "\n",
    "\n",
    "\n",
    "# Display both the first and last five rows of the DataFrame\n",
    "df_potfolio_prices_10yrs_total = df_potfolio_prices_10yrs_1 + df_potfolio_prices_10yrs_2 + df_potfolio_prices_10yrs_3 + df_potfolio_prices_10yrs_4 + df_potfolio_prices_10yrs_5\n",
    "\n",
    "display(df_potfolio_prices_10yrs_total)"
   ]
  },
  {
   "cell_type": "markdown",
   "metadata": {},
   "source": [
    "#### Step 2: Run a Monte Carlo simulation of 500 samples and 30 years for the 60/40 portfolio, and then plot the results."
   ]
  },
  {
   "cell_type": "code",
   "execution_count": 30,
   "metadata": {},
   "outputs": [
    {
     "data": {
      "text/html": [
       "<div>\n",
       "<style scoped>\n",
       "    .dataframe tbody tr th:only-of-type {\n",
       "        vertical-align: middle;\n",
       "    }\n",
       "\n",
       "    .dataframe tbody tr th {\n",
       "        vertical-align: top;\n",
       "    }\n",
       "\n",
       "    .dataframe thead tr th {\n",
       "        text-align: left;\n",
       "    }\n",
       "\n",
       "    .dataframe thead tr:last-of-type th {\n",
       "        text-align: right;\n",
       "    }\n",
       "</style>\n",
       "<table border=\"1\" class=\"dataframe\">\n",
       "  <thead>\n",
       "    <tr>\n",
       "      <th></th>\n",
       "      <th colspan=\"6\" halign=\"left\">AGG</th>\n",
       "      <th colspan=\"6\" halign=\"left\">SPY</th>\n",
       "    </tr>\n",
       "    <tr>\n",
       "      <th></th>\n",
       "      <th>open</th>\n",
       "      <th>high</th>\n",
       "      <th>low</th>\n",
       "      <th>close</th>\n",
       "      <th>volume</th>\n",
       "      <th>daily_return</th>\n",
       "      <th>open</th>\n",
       "      <th>high</th>\n",
       "      <th>low</th>\n",
       "      <th>close</th>\n",
       "      <th>volume</th>\n",
       "      <th>daily_return</th>\n",
       "    </tr>\n",
       "    <tr>\n",
       "      <th>time</th>\n",
       "      <th></th>\n",
       "      <th></th>\n",
       "      <th></th>\n",
       "      <th></th>\n",
       "      <th></th>\n",
       "      <th></th>\n",
       "      <th></th>\n",
       "      <th></th>\n",
       "      <th></th>\n",
       "      <th></th>\n",
       "      <th></th>\n",
       "      <th></th>\n",
       "    </tr>\n",
       "  </thead>\n",
       "  <tbody>\n",
       "    <tr>\n",
       "      <th>2017-07-13 00:00:00-04:00</th>\n",
       "      <td>546.45</td>\n",
       "      <td>546.559</td>\n",
       "      <td>545.650</td>\n",
       "      <td>546.200</td>\n",
       "      <td>7163300.0</td>\n",
       "      <td>NaN</td>\n",
       "      <td>NaN</td>\n",
       "      <td>NaN</td>\n",
       "      <td>NaN</td>\n",
       "      <td>NaN</td>\n",
       "      <td>NaN</td>\n",
       "      <td>NaN</td>\n",
       "    </tr>\n",
       "    <tr>\n",
       "      <th>2017-07-14 00:00:00-04:00</th>\n",
       "      <td>547.70</td>\n",
       "      <td>547.800</td>\n",
       "      <td>546.450</td>\n",
       "      <td>546.800</td>\n",
       "      <td>8723850.0</td>\n",
       "      <td>0.001098</td>\n",
       "      <td>1222.10</td>\n",
       "      <td>1229.85</td>\n",
       "      <td>1221.550</td>\n",
       "      <td>1227.70</td>\n",
       "      <td>203790190.0</td>\n",
       "      <td>NaN</td>\n",
       "    </tr>\n",
       "    <tr>\n",
       "      <th>2017-07-17 00:00:00-04:00</th>\n",
       "      <td>547.00</td>\n",
       "      <td>547.400</td>\n",
       "      <td>546.600</td>\n",
       "      <td>547.050</td>\n",
       "      <td>9552720.0</td>\n",
       "      <td>0.000457</td>\n",
       "      <td>1227.35</td>\n",
       "      <td>1229.55</td>\n",
       "      <td>1226.650</td>\n",
       "      <td>1227.55</td>\n",
       "      <td>111894855.0</td>\n",
       "      <td>-0.000122</td>\n",
       "    </tr>\n",
       "    <tr>\n",
       "      <th>2017-07-18 00:00:00-04:00</th>\n",
       "      <td>548.20</td>\n",
       "      <td>548.550</td>\n",
       "      <td>547.900</td>\n",
       "      <td>548.400</td>\n",
       "      <td>12355850.0</td>\n",
       "      <td>0.002468</td>\n",
       "      <td>1225.30</td>\n",
       "      <td>1228.60</td>\n",
       "      <td>1223.350</td>\n",
       "      <td>1228.45</td>\n",
       "      <td>158477470.0</td>\n",
       "      <td>0.000733</td>\n",
       "    </tr>\n",
       "    <tr>\n",
       "      <th>2017-07-19 00:00:00-04:00</th>\n",
       "      <td>548.60</td>\n",
       "      <td>548.750</td>\n",
       "      <td>548.150</td>\n",
       "      <td>548.500</td>\n",
       "      <td>7026445.0</td>\n",
       "      <td>0.000182</td>\n",
       "      <td>1230.10</td>\n",
       "      <td>1235.00</td>\n",
       "      <td>1230.050</td>\n",
       "      <td>1234.95</td>\n",
       "      <td>155038690.0</td>\n",
       "      <td>0.005291</td>\n",
       "    </tr>\n",
       "    <tr>\n",
       "      <th>...</th>\n",
       "      <td>...</td>\n",
       "      <td>...</td>\n",
       "      <td>...</td>\n",
       "      <td>...</td>\n",
       "      <td>...</td>\n",
       "      <td>...</td>\n",
       "      <td>...</td>\n",
       "      <td>...</td>\n",
       "      <td>...</td>\n",
       "      <td>...</td>\n",
       "      <td>...</td>\n",
       "      <td>...</td>\n",
       "    </tr>\n",
       "    <tr>\n",
       "      <th>2021-06-28 00:00:00-04:00</th>\n",
       "      <td>575.20</td>\n",
       "      <td>576.150</td>\n",
       "      <td>575.200</td>\n",
       "      <td>575.800</td>\n",
       "      <td>27618450.0</td>\n",
       "      <td>0.002350</td>\n",
       "      <td>2135.85</td>\n",
       "      <td>2138.25</td>\n",
       "      <td>2129.450</td>\n",
       "      <td>2137.40</td>\n",
       "      <td>219686865.0</td>\n",
       "      <td>0.002133</td>\n",
       "    </tr>\n",
       "    <tr>\n",
       "      <th>2021-06-29 00:00:00-04:00</th>\n",
       "      <td>575.30</td>\n",
       "      <td>576.250</td>\n",
       "      <td>575.225</td>\n",
       "      <td>576.250</td>\n",
       "      <td>17347025.0</td>\n",
       "      <td>0.000782</td>\n",
       "      <td>2139.45</td>\n",
       "      <td>2142.80</td>\n",
       "      <td>2135.650</td>\n",
       "      <td>2138.40</td>\n",
       "      <td>160487860.0</td>\n",
       "      <td>0.000468</td>\n",
       "    </tr>\n",
       "    <tr>\n",
       "      <th>2021-06-30 00:00:00-04:00</th>\n",
       "      <td>576.80</td>\n",
       "      <td>577.250</td>\n",
       "      <td>576.500</td>\n",
       "      <td>576.750</td>\n",
       "      <td>29921905.0</td>\n",
       "      <td>0.000868</td>\n",
       "      <td>2136.00</td>\n",
       "      <td>2143.90</td>\n",
       "      <td>2135.900</td>\n",
       "      <td>2140.40</td>\n",
       "      <td>233882010.0</td>\n",
       "      <td>0.000935</td>\n",
       "    </tr>\n",
       "    <tr>\n",
       "      <th>2021-07-01 00:00:00-04:00</th>\n",
       "      <td>575.75</td>\n",
       "      <td>575.950</td>\n",
       "      <td>575.050</td>\n",
       "      <td>575.575</td>\n",
       "      <td>22196630.0</td>\n",
       "      <td>-0.002037</td>\n",
       "      <td>2144.15</td>\n",
       "      <td>2153.00</td>\n",
       "      <td>2144.000</td>\n",
       "      <td>2152.35</td>\n",
       "      <td>220739175.0</td>\n",
       "      <td>0.005583</td>\n",
       "    </tr>\n",
       "    <tr>\n",
       "      <th>2021-07-02 00:00:00-04:00</th>\n",
       "      <td>576.15</td>\n",
       "      <td>576.850</td>\n",
       "      <td>575.850</td>\n",
       "      <td>576.850</td>\n",
       "      <td>21097470.0</td>\n",
       "      <td>0.002215</td>\n",
       "      <td>2158.35</td>\n",
       "      <td>2170.50</td>\n",
       "      <td>2152.609</td>\n",
       "      <td>2168.75</td>\n",
       "      <td>232785350.0</td>\n",
       "      <td>0.007620</td>\n",
       "    </tr>\n",
       "  </tbody>\n",
       "</table>\n",
       "<p>1001 rows × 12 columns</p>\n",
       "</div>"
      ],
      "text/plain": [
       "                              AGG                                         \\\n",
       "                             open     high      low    close      volume   \n",
       "time                                                                       \n",
       "2017-07-13 00:00:00-04:00  546.45  546.559  545.650  546.200   7163300.0   \n",
       "2017-07-14 00:00:00-04:00  547.70  547.800  546.450  546.800   8723850.0   \n",
       "2017-07-17 00:00:00-04:00  547.00  547.400  546.600  547.050   9552720.0   \n",
       "2017-07-18 00:00:00-04:00  548.20  548.550  547.900  548.400  12355850.0   \n",
       "2017-07-19 00:00:00-04:00  548.60  548.750  548.150  548.500   7026445.0   \n",
       "...                           ...      ...      ...      ...         ...   \n",
       "2021-06-28 00:00:00-04:00  575.20  576.150  575.200  575.800  27618450.0   \n",
       "2021-06-29 00:00:00-04:00  575.30  576.250  575.225  576.250  17347025.0   \n",
       "2021-06-30 00:00:00-04:00  576.80  577.250  576.500  576.750  29921905.0   \n",
       "2021-07-01 00:00:00-04:00  575.75  575.950  575.050  575.575  22196630.0   \n",
       "2021-07-02 00:00:00-04:00  576.15  576.850  575.850  576.850  21097470.0   \n",
       "\n",
       "                                            SPY                              \\\n",
       "                          daily_return     open     high       low    close   \n",
       "time                                                                          \n",
       "2017-07-13 00:00:00-04:00          NaN      NaN      NaN       NaN      NaN   \n",
       "2017-07-14 00:00:00-04:00     0.001098  1222.10  1229.85  1221.550  1227.70   \n",
       "2017-07-17 00:00:00-04:00     0.000457  1227.35  1229.55  1226.650  1227.55   \n",
       "2017-07-18 00:00:00-04:00     0.002468  1225.30  1228.60  1223.350  1228.45   \n",
       "2017-07-19 00:00:00-04:00     0.000182  1230.10  1235.00  1230.050  1234.95   \n",
       "...                                ...      ...      ...       ...      ...   \n",
       "2021-06-28 00:00:00-04:00     0.002350  2135.85  2138.25  2129.450  2137.40   \n",
       "2021-06-29 00:00:00-04:00     0.000782  2139.45  2142.80  2135.650  2138.40   \n",
       "2021-06-30 00:00:00-04:00     0.000868  2136.00  2143.90  2135.900  2140.40   \n",
       "2021-07-01 00:00:00-04:00    -0.002037  2144.15  2153.00  2144.000  2152.35   \n",
       "2021-07-02 00:00:00-04:00     0.002215  2158.35  2170.50  2152.609  2168.75   \n",
       "\n",
       "                                                     \n",
       "                                volume daily_return  \n",
       "time                                                 \n",
       "2017-07-13 00:00:00-04:00          NaN          NaN  \n",
       "2017-07-14 00:00:00-04:00  203790190.0          NaN  \n",
       "2017-07-17 00:00:00-04:00  111894855.0    -0.000122  \n",
       "2017-07-18 00:00:00-04:00  158477470.0     0.000733  \n",
       "2017-07-19 00:00:00-04:00  155038690.0     0.005291  \n",
       "...                                ...          ...  \n",
       "2021-06-28 00:00:00-04:00  219686865.0     0.002133  \n",
       "2021-06-29 00:00:00-04:00  160487860.0     0.000468  \n",
       "2021-06-30 00:00:00-04:00  233882010.0     0.000935  \n",
       "2021-07-01 00:00:00-04:00  220739175.0     0.005583  \n",
       "2021-07-02 00:00:00-04:00  232785350.0     0.007620  \n",
       "\n",
       "[1001 rows x 12 columns]"
      ]
     },
     "execution_count": 30,
     "metadata": {},
     "output_type": "execute_result"
    }
   ],
   "source": [
    "# Configure the Monte Carlo simulation to forecast 30 years cumulative returns\n",
    "# The weights should be split 40% to AGG and 60% to SPY.\n",
    "# Run 500 samples.\n",
    "# The Monte Carlo simulation below is using the 10 year data from above with a weighted portfolio of 40% bonds and 60% stocks to generate 500 simulations of the future value of the portfolio in 30 years\n",
    "mc_30yrs_500sims_weight_40_60 = MCSimulation(\n",
    "portfolio_data = df_potfolio_prices_10yrs_total,\n",
    "weights = [.40, .60],\n",
    "num_simulation = 500,\n",
    "num_trading_days = 252*30)\n",
    "\n",
    "# Review the simulation input data\n",
    "# Below displays the 30 year forecast data with daily returns\n",
    "mc_30yrs_500sims_weight_40_60.portfolio_data\n"
   ]
  },
  {
   "cell_type": "code",
   "execution_count": 31,
   "metadata": {},
   "outputs": [
    {
     "name": "stdout",
     "output_type": "stream",
     "text": [
      "Running Monte Carlo simulation number 0.\n",
      "Running Monte Carlo simulation number 10.\n",
      "Running Monte Carlo simulation number 20.\n",
      "Running Monte Carlo simulation number 30.\n",
      "Running Monte Carlo simulation number 40.\n",
      "Running Monte Carlo simulation number 50.\n",
      "Running Monte Carlo simulation number 60.\n",
      "Running Monte Carlo simulation number 70.\n",
      "Running Monte Carlo simulation number 80.\n",
      "Running Monte Carlo simulation number 90.\n",
      "Running Monte Carlo simulation number 100.\n",
      "Running Monte Carlo simulation number 110.\n",
      "Running Monte Carlo simulation number 120.\n",
      "Running Monte Carlo simulation number 130.\n",
      "Running Monte Carlo simulation number 140.\n",
      "Running Monte Carlo simulation number 150.\n",
      "Running Monte Carlo simulation number 160.\n",
      "Running Monte Carlo simulation number 170.\n",
      "Running Monte Carlo simulation number 180.\n",
      "Running Monte Carlo simulation number 190.\n",
      "Running Monte Carlo simulation number 200.\n",
      "Running Monte Carlo simulation number 210.\n",
      "Running Monte Carlo simulation number 220.\n",
      "Running Monte Carlo simulation number 230.\n",
      "Running Monte Carlo simulation number 240.\n",
      "Running Monte Carlo simulation number 250.\n",
      "Running Monte Carlo simulation number 260.\n",
      "Running Monte Carlo simulation number 270.\n",
      "Running Monte Carlo simulation number 280.\n",
      "Running Monte Carlo simulation number 290.\n",
      "Running Monte Carlo simulation number 300.\n",
      "Running Monte Carlo simulation number 310.\n",
      "Running Monte Carlo simulation number 320.\n",
      "Running Monte Carlo simulation number 330.\n",
      "Running Monte Carlo simulation number 340.\n",
      "Running Monte Carlo simulation number 350.\n",
      "Running Monte Carlo simulation number 360.\n",
      "Running Monte Carlo simulation number 370.\n",
      "Running Monte Carlo simulation number 380.\n",
      "Running Monte Carlo simulation number 390.\n",
      "Running Monte Carlo simulation number 400.\n",
      "Running Monte Carlo simulation number 410.\n",
      "Running Monte Carlo simulation number 420.\n",
      "Running Monte Carlo simulation number 430.\n",
      "Running Monte Carlo simulation number 440.\n",
      "Running Monte Carlo simulation number 450.\n",
      "Running Monte Carlo simulation number 460.\n",
      "Running Monte Carlo simulation number 470.\n",
      "Running Monte Carlo simulation number 480.\n",
      "Running Monte Carlo simulation number 490.\n"
     ]
    },
    {
     "data": {
      "text/html": [
       "<div>\n",
       "<style scoped>\n",
       "    .dataframe tbody tr th:only-of-type {\n",
       "        vertical-align: middle;\n",
       "    }\n",
       "\n",
       "    .dataframe tbody tr th {\n",
       "        vertical-align: top;\n",
       "    }\n",
       "\n",
       "    .dataframe thead th {\n",
       "        text-align: right;\n",
       "    }\n",
       "</style>\n",
       "<table border=\"1\" class=\"dataframe\">\n",
       "  <thead>\n",
       "    <tr style=\"text-align: right;\">\n",
       "      <th></th>\n",
       "      <th>0</th>\n",
       "      <th>1</th>\n",
       "      <th>2</th>\n",
       "      <th>3</th>\n",
       "      <th>4</th>\n",
       "      <th>5</th>\n",
       "      <th>6</th>\n",
       "      <th>7</th>\n",
       "      <th>8</th>\n",
       "      <th>9</th>\n",
       "      <th>...</th>\n",
       "      <th>490</th>\n",
       "      <th>491</th>\n",
       "      <th>492</th>\n",
       "      <th>493</th>\n",
       "      <th>494</th>\n",
       "      <th>495</th>\n",
       "      <th>496</th>\n",
       "      <th>497</th>\n",
       "      <th>498</th>\n",
       "      <th>499</th>\n",
       "    </tr>\n",
       "  </thead>\n",
       "  <tbody>\n",
       "    <tr>\n",
       "      <th>0</th>\n",
       "      <td>1.000000</td>\n",
       "      <td>1.000000</td>\n",
       "      <td>1.000000</td>\n",
       "      <td>1.000000</td>\n",
       "      <td>1.000000</td>\n",
       "      <td>1.000000</td>\n",
       "      <td>1.000000</td>\n",
       "      <td>1.000000</td>\n",
       "      <td>1.000000</td>\n",
       "      <td>1.000000</td>\n",
       "      <td>...</td>\n",
       "      <td>1.000000</td>\n",
       "      <td>1.000000</td>\n",
       "      <td>1.000000</td>\n",
       "      <td>1.000000</td>\n",
       "      <td>1.000000</td>\n",
       "      <td>1.000000</td>\n",
       "      <td>1.000000</td>\n",
       "      <td>1.000000</td>\n",
       "      <td>1.000000</td>\n",
       "      <td>1.000000</td>\n",
       "    </tr>\n",
       "    <tr>\n",
       "      <th>1</th>\n",
       "      <td>0.996701</td>\n",
       "      <td>1.001112</td>\n",
       "      <td>0.999511</td>\n",
       "      <td>1.006286</td>\n",
       "      <td>0.982582</td>\n",
       "      <td>1.000195</td>\n",
       "      <td>0.989384</td>\n",
       "      <td>1.006849</td>\n",
       "      <td>0.992974</td>\n",
       "      <td>1.003518</td>\n",
       "      <td>...</td>\n",
       "      <td>0.994246</td>\n",
       "      <td>1.004166</td>\n",
       "      <td>0.998717</td>\n",
       "      <td>1.000359</td>\n",
       "      <td>1.004287</td>\n",
       "      <td>0.995716</td>\n",
       "      <td>0.997174</td>\n",
       "      <td>0.990925</td>\n",
       "      <td>0.999953</td>\n",
       "      <td>0.999610</td>\n",
       "    </tr>\n",
       "    <tr>\n",
       "      <th>2</th>\n",
       "      <td>0.997537</td>\n",
       "      <td>1.002549</td>\n",
       "      <td>1.011180</td>\n",
       "      <td>1.002311</td>\n",
       "      <td>0.976342</td>\n",
       "      <td>0.990387</td>\n",
       "      <td>1.001755</td>\n",
       "      <td>1.000697</td>\n",
       "      <td>0.985934</td>\n",
       "      <td>0.997447</td>\n",
       "      <td>...</td>\n",
       "      <td>0.994668</td>\n",
       "      <td>1.000988</td>\n",
       "      <td>0.995426</td>\n",
       "      <td>1.002959</td>\n",
       "      <td>1.001745</td>\n",
       "      <td>0.994872</td>\n",
       "      <td>1.012438</td>\n",
       "      <td>0.995385</td>\n",
       "      <td>0.996324</td>\n",
       "      <td>0.997231</td>\n",
       "    </tr>\n",
       "    <tr>\n",
       "      <th>3</th>\n",
       "      <td>1.004120</td>\n",
       "      <td>0.998386</td>\n",
       "      <td>1.021032</td>\n",
       "      <td>1.003008</td>\n",
       "      <td>0.981618</td>\n",
       "      <td>0.984613</td>\n",
       "      <td>1.001327</td>\n",
       "      <td>0.994858</td>\n",
       "      <td>0.979896</td>\n",
       "      <td>0.993144</td>\n",
       "      <td>...</td>\n",
       "      <td>1.000242</td>\n",
       "      <td>1.004228</td>\n",
       "      <td>0.988917</td>\n",
       "      <td>0.996898</td>\n",
       "      <td>0.995650</td>\n",
       "      <td>0.983730</td>\n",
       "      <td>1.013906</td>\n",
       "      <td>1.001894</td>\n",
       "      <td>0.994223</td>\n",
       "      <td>0.998228</td>\n",
       "    </tr>\n",
       "    <tr>\n",
       "      <th>4</th>\n",
       "      <td>1.007593</td>\n",
       "      <td>0.997565</td>\n",
       "      <td>1.027861</td>\n",
       "      <td>1.012893</td>\n",
       "      <td>0.974975</td>\n",
       "      <td>0.976091</td>\n",
       "      <td>1.005581</td>\n",
       "      <td>0.981185</td>\n",
       "      <td>0.973865</td>\n",
       "      <td>0.989984</td>\n",
       "      <td>...</td>\n",
       "      <td>1.003030</td>\n",
       "      <td>1.013791</td>\n",
       "      <td>0.980520</td>\n",
       "      <td>0.990251</td>\n",
       "      <td>0.997828</td>\n",
       "      <td>0.997338</td>\n",
       "      <td>1.016533</td>\n",
       "      <td>1.000425</td>\n",
       "      <td>0.998581</td>\n",
       "      <td>0.994842</td>\n",
       "    </tr>\n",
       "    <tr>\n",
       "      <th>...</th>\n",
       "      <td>...</td>\n",
       "      <td>...</td>\n",
       "      <td>...</td>\n",
       "      <td>...</td>\n",
       "      <td>...</td>\n",
       "      <td>...</td>\n",
       "      <td>...</td>\n",
       "      <td>...</td>\n",
       "      <td>...</td>\n",
       "      <td>...</td>\n",
       "      <td>...</td>\n",
       "      <td>...</td>\n",
       "      <td>...</td>\n",
       "      <td>...</td>\n",
       "      <td>...</td>\n",
       "      <td>...</td>\n",
       "      <td>...</td>\n",
       "      <td>...</td>\n",
       "      <td>...</td>\n",
       "      <td>...</td>\n",
       "      <td>...</td>\n",
       "    </tr>\n",
       "    <tr>\n",
       "      <th>7556</th>\n",
       "      <td>35.731986</td>\n",
       "      <td>51.784662</td>\n",
       "      <td>10.422193</td>\n",
       "      <td>7.844609</td>\n",
       "      <td>17.123244</td>\n",
       "      <td>4.012028</td>\n",
       "      <td>21.611127</td>\n",
       "      <td>18.316169</td>\n",
       "      <td>11.796881</td>\n",
       "      <td>9.336784</td>\n",
       "      <td>...</td>\n",
       "      <td>30.763392</td>\n",
       "      <td>16.423666</td>\n",
       "      <td>15.095459</td>\n",
       "      <td>32.068206</td>\n",
       "      <td>7.621488</td>\n",
       "      <td>6.829237</td>\n",
       "      <td>9.835977</td>\n",
       "      <td>19.352133</td>\n",
       "      <td>15.057473</td>\n",
       "      <td>5.902549</td>\n",
       "    </tr>\n",
       "    <tr>\n",
       "      <th>7557</th>\n",
       "      <td>35.613818</td>\n",
       "      <td>51.717392</td>\n",
       "      <td>10.462492</td>\n",
       "      <td>7.902308</td>\n",
       "      <td>17.408513</td>\n",
       "      <td>4.004124</td>\n",
       "      <td>21.521630</td>\n",
       "      <td>18.463341</td>\n",
       "      <td>11.895513</td>\n",
       "      <td>9.366787</td>\n",
       "      <td>...</td>\n",
       "      <td>30.663174</td>\n",
       "      <td>16.639516</td>\n",
       "      <td>14.969635</td>\n",
       "      <td>32.136547</td>\n",
       "      <td>7.704038</td>\n",
       "      <td>6.803131</td>\n",
       "      <td>9.904195</td>\n",
       "      <td>19.200700</td>\n",
       "      <td>14.871480</td>\n",
       "      <td>5.932235</td>\n",
       "    </tr>\n",
       "    <tr>\n",
       "      <th>7558</th>\n",
       "      <td>35.954302</td>\n",
       "      <td>51.918335</td>\n",
       "      <td>10.476625</td>\n",
       "      <td>7.892827</td>\n",
       "      <td>17.204129</td>\n",
       "      <td>3.925482</td>\n",
       "      <td>21.258387</td>\n",
       "      <td>18.607353</td>\n",
       "      <td>11.851518</td>\n",
       "      <td>9.285326</td>\n",
       "      <td>...</td>\n",
       "      <td>30.627220</td>\n",
       "      <td>16.753387</td>\n",
       "      <td>15.004229</td>\n",
       "      <td>32.248166</td>\n",
       "      <td>7.727621</td>\n",
       "      <td>6.778541</td>\n",
       "      <td>9.837407</td>\n",
       "      <td>19.116797</td>\n",
       "      <td>14.958174</td>\n",
       "      <td>5.888975</td>\n",
       "    </tr>\n",
       "    <tr>\n",
       "      <th>7559</th>\n",
       "      <td>36.190171</td>\n",
       "      <td>52.231450</td>\n",
       "      <td>10.611200</td>\n",
       "      <td>7.815727</td>\n",
       "      <td>17.422473</td>\n",
       "      <td>3.888028</td>\n",
       "      <td>20.960215</td>\n",
       "      <td>18.708497</td>\n",
       "      <td>11.704136</td>\n",
       "      <td>9.301383</td>\n",
       "      <td>...</td>\n",
       "      <td>31.175341</td>\n",
       "      <td>16.681402</td>\n",
       "      <td>14.955895</td>\n",
       "      <td>32.389550</td>\n",
       "      <td>7.668777</td>\n",
       "      <td>6.800232</td>\n",
       "      <td>9.909182</td>\n",
       "      <td>18.978515</td>\n",
       "      <td>14.805611</td>\n",
       "      <td>5.893430</td>\n",
       "    </tr>\n",
       "    <tr>\n",
       "      <th>7560</th>\n",
       "      <td>36.535953</td>\n",
       "      <td>52.237816</td>\n",
       "      <td>10.721380</td>\n",
       "      <td>7.722045</td>\n",
       "      <td>17.467263</td>\n",
       "      <td>3.913820</td>\n",
       "      <td>20.965125</td>\n",
       "      <td>18.826412</td>\n",
       "      <td>11.759886</td>\n",
       "      <td>9.279653</td>\n",
       "      <td>...</td>\n",
       "      <td>30.986684</td>\n",
       "      <td>16.762639</td>\n",
       "      <td>15.076688</td>\n",
       "      <td>32.490357</td>\n",
       "      <td>7.697301</td>\n",
       "      <td>6.754185</td>\n",
       "      <td>9.861426</td>\n",
       "      <td>19.050236</td>\n",
       "      <td>14.689875</td>\n",
       "      <td>5.828287</td>\n",
       "    </tr>\n",
       "  </tbody>\n",
       "</table>\n",
       "<p>7561 rows × 500 columns</p>\n",
       "</div>"
      ],
      "text/plain": [
       "            0          1          2         3          4         5    \\\n",
       "0      1.000000   1.000000   1.000000  1.000000   1.000000  1.000000   \n",
       "1      0.996701   1.001112   0.999511  1.006286   0.982582  1.000195   \n",
       "2      0.997537   1.002549   1.011180  1.002311   0.976342  0.990387   \n",
       "3      1.004120   0.998386   1.021032  1.003008   0.981618  0.984613   \n",
       "4      1.007593   0.997565   1.027861  1.012893   0.974975  0.976091   \n",
       "...         ...        ...        ...       ...        ...       ...   \n",
       "7556  35.731986  51.784662  10.422193  7.844609  17.123244  4.012028   \n",
       "7557  35.613818  51.717392  10.462492  7.902308  17.408513  4.004124   \n",
       "7558  35.954302  51.918335  10.476625  7.892827  17.204129  3.925482   \n",
       "7559  36.190171  52.231450  10.611200  7.815727  17.422473  3.888028   \n",
       "7560  36.535953  52.237816  10.721380  7.722045  17.467263  3.913820   \n",
       "\n",
       "            6          7          8         9    ...        490        491  \\\n",
       "0      1.000000   1.000000   1.000000  1.000000  ...   1.000000   1.000000   \n",
       "1      0.989384   1.006849   0.992974  1.003518  ...   0.994246   1.004166   \n",
       "2      1.001755   1.000697   0.985934  0.997447  ...   0.994668   1.000988   \n",
       "3      1.001327   0.994858   0.979896  0.993144  ...   1.000242   1.004228   \n",
       "4      1.005581   0.981185   0.973865  0.989984  ...   1.003030   1.013791   \n",
       "...         ...        ...        ...       ...  ...        ...        ...   \n",
       "7556  21.611127  18.316169  11.796881  9.336784  ...  30.763392  16.423666   \n",
       "7557  21.521630  18.463341  11.895513  9.366787  ...  30.663174  16.639516   \n",
       "7558  21.258387  18.607353  11.851518  9.285326  ...  30.627220  16.753387   \n",
       "7559  20.960215  18.708497  11.704136  9.301383  ...  31.175341  16.681402   \n",
       "7560  20.965125  18.826412  11.759886  9.279653  ...  30.986684  16.762639   \n",
       "\n",
       "            492        493       494       495       496        497  \\\n",
       "0      1.000000   1.000000  1.000000  1.000000  1.000000   1.000000   \n",
       "1      0.998717   1.000359  1.004287  0.995716  0.997174   0.990925   \n",
       "2      0.995426   1.002959  1.001745  0.994872  1.012438   0.995385   \n",
       "3      0.988917   0.996898  0.995650  0.983730  1.013906   1.001894   \n",
       "4      0.980520   0.990251  0.997828  0.997338  1.016533   1.000425   \n",
       "...         ...        ...       ...       ...       ...        ...   \n",
       "7556  15.095459  32.068206  7.621488  6.829237  9.835977  19.352133   \n",
       "7557  14.969635  32.136547  7.704038  6.803131  9.904195  19.200700   \n",
       "7558  15.004229  32.248166  7.727621  6.778541  9.837407  19.116797   \n",
       "7559  14.955895  32.389550  7.668777  6.800232  9.909182  18.978515   \n",
       "7560  15.076688  32.490357  7.697301  6.754185  9.861426  19.050236   \n",
       "\n",
       "            498       499  \n",
       "0      1.000000  1.000000  \n",
       "1      0.999953  0.999610  \n",
       "2      0.996324  0.997231  \n",
       "3      0.994223  0.998228  \n",
       "4      0.998581  0.994842  \n",
       "...         ...       ...  \n",
       "7556  15.057473  5.902549  \n",
       "7557  14.871480  5.932235  \n",
       "7558  14.958174  5.888975  \n",
       "7559  14.805611  5.893430  \n",
       "7560  14.689875  5.828287  \n",
       "\n",
       "[7561 rows x 500 columns]"
      ]
     },
     "execution_count": 31,
     "metadata": {},
     "output_type": "execute_result"
    }
   ],
   "source": [
    "# Run the Monte Carlo simulation to forecast 30 years cumulative returns\n",
    "# By adding the .calc_cumulative_return() to the end of the Monte Carlo simulation to forecast 30 years cumulative returns \n",
    "mc_30yrs_500sims_weight_40_60.calc_cumulative_return()"
   ]
  },
  {
   "cell_type": "code",
   "execution_count": 32,
   "metadata": {},
   "outputs": [
    {
     "data": {
      "image/png": "[encoded data removed]",
      "text/plain": [
       "<Figure size 432x288 with 1 Axes>"
      ]
     },
     "metadata": {
      "needs_background": "light"
     },
     "output_type": "display_data"
    }
   ],
   "source": [
    "# Visualize the 30-year Monte Carlo simulation by creating an overlay line plot\n",
    "# By adding the .plot_simulation() to the Monte Carlo will generate an overlay plot of the data\n",
    "mc_30yrs_500sims_weight_40_60_line_plot = mc_30yrs_500sims_weight_40_60.plot_simulation()"
   ]
  },
  {
   "cell_type": "markdown",
   "metadata": {},
   "source": [
    "#### Step 3: Plot the probability distribution of the Monte Carlo simulation."
   ]
  },
  {
   "cell_type": "code",
   "execution_count": 33,
   "metadata": {},
   "outputs": [
    {
     "data": {
      "image/png": "[encoded data removed]",
      "text/plain": [
       "<Figure size 432x288 with 1 Axes>"
      ]
     },
     "metadata": {
      "needs_background": "light"
     },
     "output_type": "display_data"
    }
   ],
   "source": [
    "# Visualize the probability distribution of the 30-year Monte Carlo simulation  by plotting a histogram\n",
    "# By adding the .plot_distribution() to the Monte Carlo will generate an histogram of the data\n",
    "mc_30yrs_500sims_weight_40_60_dist_plot = mc_30yrs_500sims_weight_40_60.plot_distribution()"
   ]
  },
  {
   "cell_type": "markdown",
   "metadata": {},
   "source": [
    "#### Step 4: Generate the summary statistics for the Monte Carlo simulation."
   ]
  },
  {
   "cell_type": "code",
   "execution_count": 34,
   "metadata": {},
   "outputs": [
    {
     "data": {
      "text/plain": [
       "count           500.000000\n",
       "mean             23.238404\n",
       "std              17.337738\n",
       "min               1.426236\n",
       "25%              11.880719\n",
       "50%              18.165776\n",
       "75%              29.725777\n",
       "max             111.975473\n",
       "95% CI Lower      4.773710\n",
       "95% CI Upper     73.313937\n",
       "Name: 7560, dtype: float64"
      ]
     },
     "execution_count": 34,
     "metadata": {},
     "output_type": "execute_result"
    }
   ],
   "source": [
    "# Generate summary statistics from the 30-year Monte Carlo simulation results Save the results as a variable\n",
    "# Below saves a new variable with the summary statistics of the Monte Carlo by using the Monte Carlo variable and adding the built in function .summarize_cumulative_return()\n",
    "mc_30yrs_500sims_weight_40_60_sum_stats = mc_30yrs_500sims_weight_40_60.summarize_cumulative_return()\n",
    "\n",
    "# Review the 30-year Monte Carlo summary statistics\n",
    "mc_30yrs_500sims_weight_40_60_sum_stats"
   ]
  },
  {
   "cell_type": "markdown",
   "metadata": {},
   "source": [
    "### Analyze the Retirement Portfolio Forecasts\n",
    "\n",
    "Using the current value of only the stock and bond portion of the member's portfolio and the summary statistics that you generated from the Monte Carlo simulation, answer the following question in your Jupyter notebook:\n",
    "\n",
    "-  What are the lower and upper bounds for the expected value of the portfolio with a 95% confidence interval?\n"
   ]
  },
  {
   "cell_type": "code",
   "execution_count": 35,
   "metadata": {},
   "outputs": [
    {
     "name": "stdout",
     "output_type": "stream",
     "text": [
      " The current value of the stocks and bonds is $60689.50\n"
     ]
    }
   ],
   "source": [
    "# Print the current balance of the stock and bond portion of the members portfolio\n",
    "print(f\" The current value of the stocks and bonds is ${total_stocks_bonds:.2f}\" )"
   ]
  },
  {
   "cell_type": "code",
   "execution_count": 36,
   "metadata": {},
   "outputs": [
    {
     "name": "stdout",
     "output_type": "stream",
     "text": [
      " There is a 95% probability that the current stock and bonds portfolio in 30 years will be valued between $ 289714.06 and $ 4449386.18\n"
     ]
    }
   ],
   "source": [
    "# Use the lower and upper `95%` confidence intervals to calculate the range of the possible outcomes for the current stock/bond portfolio\n",
    "# Below uses the 95% confidence to generate the upper and lower range of the summary statistics \n",
    "ci_lower_thirty_cumulative_return = mc_30yrs_500sims_weight_40_60_sum_stats[8] * total_stocks_bonds\n",
    "ci_upper_thirty_cumulative_return = mc_30yrs_500sims_weight_40_60_sum_stats[9] * total_stocks_bonds\n",
    "\n",
    "# Print the result of your calculations\n",
    "print(f\" There is a 95% probability that the current stock and bonds portfolio in 30 years will be valued between ${ci_lower_thirty_cumulative_return: .2f} and ${ci_upper_thirty_cumulative_return: .2f}\")"
   ]
  },
  {
   "cell_type": "markdown",
   "metadata": {},
   "source": [
    "### Forecast Cumulative Returns in 10 Years\n",
    "\n",
    "The CTO of the credit union is impressed with your work on these planning tools but wonders if 30 years is a long time to wait until retirement. So, your next task is to adjust the retirement portfolio and run a new Monte Carlo simulation to find out if the changes will allow members to retire earlier.\n",
    "\n",
    "For this new Monte Carlo simulation, do the following: \n",
    "\n",
    "- Forecast the cumulative returns for 10 years from now. Because of the shortened investment horizon (30 years to 10 years), the portfolio needs to invest more heavily in the riskier asset&mdash;that is, stock&mdash;to help accumulate wealth for retirement. \n",
    "\n",
    "- Adjust the weights of the retirement portfolio so that the composition for the Monte Carlo simulation consists of 20% bonds and 80% stocks. \n",
    "\n",
    "- Run the simulation over 500 samples, and use the same data that the API call to Alpaca generated.\n",
    "\n",
    "- Based on the new Monte Carlo simulation, answer the following questions in your Jupyter notebook:\n",
    "\n",
    "    - Using the current value of only the stock and bond portion of the member's portfolio and the summary statistics that you generated from the new Monte Carlo simulation, what are the lower and upper bounds for the expected value of the portfolio (with the new weights) with a 95% confidence interval?\n",
    "\n",
    "    - Will weighting the portfolio more heavily toward stocks allow the credit union members to retire after only 10 years?\n"
   ]
  },
  {
   "cell_type": "code",
   "execution_count": 37,
   "metadata": {},
   "outputs": [
    {
     "data": {
      "text/plain": [
       "<MCForecastTools.MCSimulation at 0x21c4b379148>"
      ]
     },
     "execution_count": 37,
     "metadata": {},
     "output_type": "execute_result"
    }
   ],
   "source": [
    "# Configure a Monte Carlo simulation to forecast 10 years cumulative returns\n",
    "# The weights should be split 20% to AGG and 80% to SPY.\n",
    "# Run 500 samples.\n",
    "# Below configures the  10 year cumulative returns forecast simulation with weights 20% bonds and 80% stocks\n",
    "mc_10yrs_500sims_weight_20_80 = MCSimulation(\n",
    "portfolio_data = df_potfolio_prices_10yrs_total,\n",
    "weights = [.20, .80],\n",
    "num_simulation = 500,\n",
    "num_trading_days = 252*10)\n",
    "\n",
    "# Review the simulation input data\n",
    "mc_10yrs_500sims_weight_20_80"
   ]
  },
  {
   "cell_type": "code",
   "execution_count": 38,
   "metadata": {},
   "outputs": [
    {
     "name": "stdout",
     "output_type": "stream",
     "text": [
      "Running Monte Carlo simulation number 0.\n",
      "Running Monte Carlo simulation number 10.\n",
      "Running Monte Carlo simulation number 20.\n",
      "Running Monte Carlo simulation number 30.\n",
      "Running Monte Carlo simulation number 40.\n",
      "Running Monte Carlo simulation number 50.\n",
      "Running Monte Carlo simulation number 60.\n",
      "Running Monte Carlo simulation number 70.\n",
      "Running Monte Carlo simulation number 80.\n",
      "Running Monte Carlo simulation number 90.\n",
      "Running Monte Carlo simulation number 100.\n",
      "Running Monte Carlo simulation number 110.\n",
      "Running Monte Carlo simulation number 120.\n",
      "Running Monte Carlo simulation number 130.\n",
      "Running Monte Carlo simulation number 140.\n",
      "Running Monte Carlo simulation number 150.\n",
      "Running Monte Carlo simulation number 160.\n",
      "Running Monte Carlo simulation number 170.\n",
      "Running Monte Carlo simulation number 180.\n",
      "Running Monte Carlo simulation number 190.\n",
      "Running Monte Carlo simulation number 200.\n",
      "Running Monte Carlo simulation number 210.\n",
      "Running Monte Carlo simulation number 220.\n",
      "Running Monte Carlo simulation number 230.\n",
      "Running Monte Carlo simulation number 240.\n",
      "Running Monte Carlo simulation number 250.\n",
      "Running Monte Carlo simulation number 260.\n",
      "Running Monte Carlo simulation number 270.\n",
      "Running Monte Carlo simulation number 280.\n",
      "Running Monte Carlo simulation number 290.\n",
      "Running Monte Carlo simulation number 300.\n",
      "Running Monte Carlo simulation number 310.\n",
      "Running Monte Carlo simulation number 320.\n",
      "Running Monte Carlo simulation number 330.\n",
      "Running Monte Carlo simulation number 340.\n",
      "Running Monte Carlo simulation number 350.\n",
      "Running Monte Carlo simulation number 360.\n",
      "Running Monte Carlo simulation number 370.\n",
      "Running Monte Carlo simulation number 380.\n",
      "Running Monte Carlo simulation number 390.\n",
      "Running Monte Carlo simulation number 400.\n",
      "Running Monte Carlo simulation number 410.\n",
      "Running Monte Carlo simulation number 420.\n",
      "Running Monte Carlo simulation number 430.\n",
      "Running Monte Carlo simulation number 440.\n",
      "Running Monte Carlo simulation number 450.\n",
      "Running Monte Carlo simulation number 460.\n",
      "Running Monte Carlo simulation number 470.\n",
      "Running Monte Carlo simulation number 480.\n",
      "Running Monte Carlo simulation number 490.\n"
     ]
    },
    {
     "data": {
      "text/html": [
       "<div>\n",
       "<style scoped>\n",
       "    .dataframe tbody tr th:only-of-type {\n",
       "        vertical-align: middle;\n",
       "    }\n",
       "\n",
       "    .dataframe tbody tr th {\n",
       "        vertical-align: top;\n",
       "    }\n",
       "\n",
       "    .dataframe thead th {\n",
       "        text-align: right;\n",
       "    }\n",
       "</style>\n",
       "<table border=\"1\" class=\"dataframe\">\n",
       "  <thead>\n",
       "    <tr style=\"text-align: right;\">\n",
       "      <th></th>\n",
       "      <th>0</th>\n",
       "      <th>1</th>\n",
       "      <th>2</th>\n",
       "      <th>3</th>\n",
       "      <th>4</th>\n",
       "      <th>5</th>\n",
       "      <th>6</th>\n",
       "      <th>7</th>\n",
       "      <th>8</th>\n",
       "      <th>9</th>\n",
       "      <th>...</th>\n",
       "      <th>490</th>\n",
       "      <th>491</th>\n",
       "      <th>492</th>\n",
       "      <th>493</th>\n",
       "      <th>494</th>\n",
       "      <th>495</th>\n",
       "      <th>496</th>\n",
       "      <th>497</th>\n",
       "      <th>498</th>\n",
       "      <th>499</th>\n",
       "    </tr>\n",
       "  </thead>\n",
       "  <tbody>\n",
       "    <tr>\n",
       "      <th>0</th>\n",
       "      <td>1.000000</td>\n",
       "      <td>1.000000</td>\n",
       "      <td>1.000000</td>\n",
       "      <td>1.000000</td>\n",
       "      <td>1.000000</td>\n",
       "      <td>1.000000</td>\n",
       "      <td>1.000000</td>\n",
       "      <td>1.000000</td>\n",
       "      <td>1.000000</td>\n",
       "      <td>1.000000</td>\n",
       "      <td>...</td>\n",
       "      <td>1.000000</td>\n",
       "      <td>1.000000</td>\n",
       "      <td>1.000000</td>\n",
       "      <td>1.000000</td>\n",
       "      <td>1.000000</td>\n",
       "      <td>1.000000</td>\n",
       "      <td>1.000000</td>\n",
       "      <td>1.000000</td>\n",
       "      <td>1.000000</td>\n",
       "      <td>1.000000</td>\n",
       "    </tr>\n",
       "    <tr>\n",
       "      <th>1</th>\n",
       "      <td>1.001286</td>\n",
       "      <td>1.014062</td>\n",
       "      <td>0.990642</td>\n",
       "      <td>1.007080</td>\n",
       "      <td>1.001910</td>\n",
       "      <td>1.007383</td>\n",
       "      <td>0.993827</td>\n",
       "      <td>1.009521</td>\n",
       "      <td>0.995209</td>\n",
       "      <td>0.985927</td>\n",
       "      <td>...</td>\n",
       "      <td>0.987082</td>\n",
       "      <td>0.998080</td>\n",
       "      <td>0.988182</td>\n",
       "      <td>1.006349</td>\n",
       "      <td>0.990093</td>\n",
       "      <td>1.004935</td>\n",
       "      <td>0.996458</td>\n",
       "      <td>1.008056</td>\n",
       "      <td>1.007347</td>\n",
       "      <td>1.003441</td>\n",
       "    </tr>\n",
       "    <tr>\n",
       "      <th>2</th>\n",
       "      <td>0.990426</td>\n",
       "      <td>1.022803</td>\n",
       "      <td>0.994559</td>\n",
       "      <td>1.005773</td>\n",
       "      <td>0.983391</td>\n",
       "      <td>1.006287</td>\n",
       "      <td>0.983110</td>\n",
       "      <td>1.003341</td>\n",
       "      <td>1.009174</td>\n",
       "      <td>0.974883</td>\n",
       "      <td>...</td>\n",
       "      <td>0.978642</td>\n",
       "      <td>0.991153</td>\n",
       "      <td>0.989919</td>\n",
       "      <td>0.989625</td>\n",
       "      <td>1.017806</td>\n",
       "      <td>1.001663</td>\n",
       "      <td>1.006625</td>\n",
       "      <td>1.006842</td>\n",
       "      <td>1.011954</td>\n",
       "      <td>1.016325</td>\n",
       "    </tr>\n",
       "    <tr>\n",
       "      <th>3</th>\n",
       "      <td>0.991249</td>\n",
       "      <td>1.030308</td>\n",
       "      <td>1.014937</td>\n",
       "      <td>1.012997</td>\n",
       "      <td>0.972924</td>\n",
       "      <td>1.009846</td>\n",
       "      <td>0.983269</td>\n",
       "      <td>1.006723</td>\n",
       "      <td>0.994043</td>\n",
       "      <td>0.974792</td>\n",
       "      <td>...</td>\n",
       "      <td>0.981670</td>\n",
       "      <td>1.018912</td>\n",
       "      <td>0.992563</td>\n",
       "      <td>0.987601</td>\n",
       "      <td>1.027947</td>\n",
       "      <td>1.010482</td>\n",
       "      <td>1.003729</td>\n",
       "      <td>1.017932</td>\n",
       "      <td>1.005538</td>\n",
       "      <td>1.014487</td>\n",
       "    </tr>\n",
       "    <tr>\n",
       "      <th>4</th>\n",
       "      <td>0.990871</td>\n",
       "      <td>1.053648</td>\n",
       "      <td>1.037967</td>\n",
       "      <td>1.001227</td>\n",
       "      <td>0.975322</td>\n",
       "      <td>1.000798</td>\n",
       "      <td>0.960200</td>\n",
       "      <td>1.006030</td>\n",
       "      <td>0.983775</td>\n",
       "      <td>0.962906</td>\n",
       "      <td>...</td>\n",
       "      <td>0.973499</td>\n",
       "      <td>1.012512</td>\n",
       "      <td>1.003600</td>\n",
       "      <td>0.995612</td>\n",
       "      <td>1.057290</td>\n",
       "      <td>0.998291</td>\n",
       "      <td>1.023957</td>\n",
       "      <td>1.017575</td>\n",
       "      <td>0.998841</td>\n",
       "      <td>1.003645</td>\n",
       "    </tr>\n",
       "    <tr>\n",
       "      <th>...</th>\n",
       "      <td>...</td>\n",
       "      <td>...</td>\n",
       "      <td>...</td>\n",
       "      <td>...</td>\n",
       "      <td>...</td>\n",
       "      <td>...</td>\n",
       "      <td>...</td>\n",
       "      <td>...</td>\n",
       "      <td>...</td>\n",
       "      <td>...</td>\n",
       "      <td>...</td>\n",
       "      <td>...</td>\n",
       "      <td>...</td>\n",
       "      <td>...</td>\n",
       "      <td>...</td>\n",
       "      <td>...</td>\n",
       "      <td>...</td>\n",
       "      <td>...</td>\n",
       "      <td>...</td>\n",
       "      <td>...</td>\n",
       "      <td>...</td>\n",
       "    </tr>\n",
       "    <tr>\n",
       "      <th>2516</th>\n",
       "      <td>3.930794</td>\n",
       "      <td>10.420206</td>\n",
       "      <td>1.932987</td>\n",
       "      <td>2.139598</td>\n",
       "      <td>0.823825</td>\n",
       "      <td>3.883034</td>\n",
       "      <td>2.809022</td>\n",
       "      <td>4.630521</td>\n",
       "      <td>3.797511</td>\n",
       "      <td>2.446832</td>\n",
       "      <td>...</td>\n",
       "      <td>4.299108</td>\n",
       "      <td>8.332259</td>\n",
       "      <td>1.591715</td>\n",
       "      <td>4.636015</td>\n",
       "      <td>3.442210</td>\n",
       "      <td>2.649962</td>\n",
       "      <td>3.383958</td>\n",
       "      <td>3.975020</td>\n",
       "      <td>3.170757</td>\n",
       "      <td>8.548310</td>\n",
       "    </tr>\n",
       "    <tr>\n",
       "      <th>2517</th>\n",
       "      <td>3.915893</td>\n",
       "      <td>10.301016</td>\n",
       "      <td>1.927921</td>\n",
       "      <td>2.135269</td>\n",
       "      <td>0.827520</td>\n",
       "      <td>3.940028</td>\n",
       "      <td>2.800619</td>\n",
       "      <td>4.583799</td>\n",
       "      <td>3.829645</td>\n",
       "      <td>2.450989</td>\n",
       "      <td>...</td>\n",
       "      <td>4.263194</td>\n",
       "      <td>8.513453</td>\n",
       "      <td>1.596961</td>\n",
       "      <td>4.604359</td>\n",
       "      <td>3.368826</td>\n",
       "      <td>2.684416</td>\n",
       "      <td>3.409694</td>\n",
       "      <td>4.005472</td>\n",
       "      <td>3.131074</td>\n",
       "      <td>8.692774</td>\n",
       "    </tr>\n",
       "    <tr>\n",
       "      <th>2518</th>\n",
       "      <td>3.830164</td>\n",
       "      <td>10.311343</td>\n",
       "      <td>1.942514</td>\n",
       "      <td>2.125796</td>\n",
       "      <td>0.822676</td>\n",
       "      <td>3.977621</td>\n",
       "      <td>2.873921</td>\n",
       "      <td>4.465487</td>\n",
       "      <td>3.829458</td>\n",
       "      <td>2.485344</td>\n",
       "      <td>...</td>\n",
       "      <td>4.344090</td>\n",
       "      <td>8.575561</td>\n",
       "      <td>1.589647</td>\n",
       "      <td>4.554389</td>\n",
       "      <td>3.387129</td>\n",
       "      <td>2.706660</td>\n",
       "      <td>3.419055</td>\n",
       "      <td>3.987655</td>\n",
       "      <td>3.127543</td>\n",
       "      <td>8.597827</td>\n",
       "    </tr>\n",
       "    <tr>\n",
       "      <th>2519</th>\n",
       "      <td>3.798027</td>\n",
       "      <td>10.490127</td>\n",
       "      <td>1.910182</td>\n",
       "      <td>2.117121</td>\n",
       "      <td>0.834474</td>\n",
       "      <td>3.964038</td>\n",
       "      <td>2.835344</td>\n",
       "      <td>4.466350</td>\n",
       "      <td>3.866260</td>\n",
       "      <td>2.463863</td>\n",
       "      <td>...</td>\n",
       "      <td>4.384112</td>\n",
       "      <td>8.559858</td>\n",
       "      <td>1.574717</td>\n",
       "      <td>4.494516</td>\n",
       "      <td>3.370432</td>\n",
       "      <td>2.721239</td>\n",
       "      <td>3.434398</td>\n",
       "      <td>3.978188</td>\n",
       "      <td>3.081586</td>\n",
       "      <td>8.778721</td>\n",
       "    </tr>\n",
       "    <tr>\n",
       "      <th>2520</th>\n",
       "      <td>3.771193</td>\n",
       "      <td>10.379199</td>\n",
       "      <td>1.917905</td>\n",
       "      <td>2.070520</td>\n",
       "      <td>0.851901</td>\n",
       "      <td>3.933106</td>\n",
       "      <td>2.789887</td>\n",
       "      <td>4.370273</td>\n",
       "      <td>3.829154</td>\n",
       "      <td>2.450063</td>\n",
       "      <td>...</td>\n",
       "      <td>4.363890</td>\n",
       "      <td>8.511044</td>\n",
       "      <td>1.589480</td>\n",
       "      <td>4.534974</td>\n",
       "      <td>3.323878</td>\n",
       "      <td>2.739291</td>\n",
       "      <td>3.411211</td>\n",
       "      <td>3.981113</td>\n",
       "      <td>3.111204</td>\n",
       "      <td>8.480469</td>\n",
       "    </tr>\n",
       "  </tbody>\n",
       "</table>\n",
       "<p>2521 rows × 500 columns</p>\n",
       "</div>"
      ],
      "text/plain": [
       "           0          1         2         3         4         5         6    \\\n",
       "0     1.000000   1.000000  1.000000  1.000000  1.000000  1.000000  1.000000   \n",
       "1     1.001286   1.014062  0.990642  1.007080  1.001910  1.007383  0.993827   \n",
       "2     0.990426   1.022803  0.994559  1.005773  0.983391  1.006287  0.983110   \n",
       "3     0.991249   1.030308  1.014937  1.012997  0.972924  1.009846  0.983269   \n",
       "4     0.990871   1.053648  1.037967  1.001227  0.975322  1.000798  0.960200   \n",
       "...        ...        ...       ...       ...       ...       ...       ...   \n",
       "2516  3.930794  10.420206  1.932987  2.139598  0.823825  3.883034  2.809022   \n",
       "2517  3.915893  10.301016  1.927921  2.135269  0.827520  3.940028  2.800619   \n",
       "2518  3.830164  10.311343  1.942514  2.125796  0.822676  3.977621  2.873921   \n",
       "2519  3.798027  10.490127  1.910182  2.117121  0.834474  3.964038  2.835344   \n",
       "2520  3.771193  10.379199  1.917905  2.070520  0.851901  3.933106  2.789887   \n",
       "\n",
       "           7         8         9    ...       490       491       492  \\\n",
       "0     1.000000  1.000000  1.000000  ...  1.000000  1.000000  1.000000   \n",
       "1     1.009521  0.995209  0.985927  ...  0.987082  0.998080  0.988182   \n",
       "2     1.003341  1.009174  0.974883  ...  0.978642  0.991153  0.989919   \n",
       "3     1.006723  0.994043  0.974792  ...  0.981670  1.018912  0.992563   \n",
       "4     1.006030  0.983775  0.962906  ...  0.973499  1.012512  1.003600   \n",
       "...        ...       ...       ...  ...       ...       ...       ...   \n",
       "2516  4.630521  3.797511  2.446832  ...  4.299108  8.332259  1.591715   \n",
       "2517  4.583799  3.829645  2.450989  ...  4.263194  8.513453  1.596961   \n",
       "2518  4.465487  3.829458  2.485344  ...  4.344090  8.575561  1.589647   \n",
       "2519  4.466350  3.866260  2.463863  ...  4.384112  8.559858  1.574717   \n",
       "2520  4.370273  3.829154  2.450063  ...  4.363890  8.511044  1.589480   \n",
       "\n",
       "           493       494       495       496       497       498       499  \n",
       "0     1.000000  1.000000  1.000000  1.000000  1.000000  1.000000  1.000000  \n",
       "1     1.006349  0.990093  1.004935  0.996458  1.008056  1.007347  1.003441  \n",
       "2     0.989625  1.017806  1.001663  1.006625  1.006842  1.011954  1.016325  \n",
       "3     0.987601  1.027947  1.010482  1.003729  1.017932  1.005538  1.014487  \n",
       "4     0.995612  1.057290  0.998291  1.023957  1.017575  0.998841  1.003645  \n",
       "...        ...       ...       ...       ...       ...       ...       ...  \n",
       "2516  4.636015  3.442210  2.649962  3.383958  3.975020  3.170757  8.548310  \n",
       "2517  4.604359  3.368826  2.684416  3.409694  4.005472  3.131074  8.692774  \n",
       "2518  4.554389  3.387129  2.706660  3.419055  3.987655  3.127543  8.597827  \n",
       "2519  4.494516  3.370432  2.721239  3.434398  3.978188  3.081586  8.778721  \n",
       "2520  4.534974  3.323878  2.739291  3.411211  3.981113  3.111204  8.480469  \n",
       "\n",
       "[2521 rows x 500 columns]"
      ]
     },
     "execution_count": 38,
     "metadata": {},
     "output_type": "execute_result"
    }
   ],
   "source": [
    "# Run the Monte Carlo simulation to forecast 10 years cumulative returns\n",
    "# Below by using the .calc_cumulative_return() will run the 10 year cumulative returns forecast simulation\n",
    "mc_10yrs_500sims_weight_20_80.calc_cumulative_return()"
   ]
  },
  {
   "cell_type": "code",
   "execution_count": 39,
   "metadata": {},
   "outputs": [
    {
     "data": {
      "text/plain": [
       "<AxesSubplot:title={'center':'500 Simulations of Cumulative Portfolio Return Trajectories Over the Next 2520 Trading Days.'}>"
      ]
     },
     "execution_count": 39,
     "metadata": {},
     "output_type": "execute_result"
    },
    {
     "data": {
      "image/png": "[encoded data removed]",
      "text/plain": [
       "<Figure size 432x288 with 1 Axes>"
      ]
     },
     "metadata": {
      "needs_background": "light"
     },
     "output_type": "display_data"
    }
   ],
   "source": [
    "# Visualize the 10-year Monte Carlo simulation by creating an overlay line plot\n",
    "# Below the .plot_simulation() is used to generate a line plot\n",
    "mc_10yrs_500sims_weight_20_80.plot_simulation()"
   ]
  },
  {
   "cell_type": "code",
   "execution_count": 40,
   "metadata": {},
   "outputs": [
    {
     "data": {
      "text/plain": [
       "<AxesSubplot:title={'center':'Distribution of Final Cumuluative Returns Across All 500 Simulations'}, ylabel='Frequency'>"
      ]
     },
     "execution_count": 40,
     "metadata": {},
     "output_type": "execute_result"
    },
    {
     "data": {
      "image/png": "[encoded data removed]",
      "text/plain": [
       "<Figure size 432x288 with 1 Axes>"
      ]
     },
     "metadata": {
      "needs_background": "light"
     },
     "output_type": "display_data"
    }
   ],
   "source": [
    "# Visualize the probability distribution of the 10-year Monte Carlo simulation by plotting a histogram\n",
    "# Below the .plot_distribution() is used to generate a histogram \n",
    "mc_10yrs_500sims_weight_20_80.plot_distribution()\n"
   ]
  },
  {
   "cell_type": "code",
   "execution_count": 47,
   "metadata": {},
   "outputs": [
    {
     "data": {
      "text/plain": [
       "count     10.000000\n",
       "mean      54.447870\n",
       "std      156.618780\n",
       "min        0.832661\n",
       "25%        2.258351\n",
       "50%        3.690467\n",
       "75%        8.508492\n",
       "max      500.000000\n",
       "Name: 2520, dtype: float64"
      ]
     },
     "execution_count": 47,
     "metadata": {},
     "output_type": "execute_result"
    }
   ],
   "source": [
    "# Generate summary statistics from the 10-year Monte Carlo simulation results Save the results as a variable\n",
    "# Below uses the .summarize_cumulative_return() from MCForecastTools import MCSimulation to generate the summary statistics\n",
    "mc_10yrs_500sims_weight_20_80_sum_stat = mc_10yrs_500sims_weight_20_80.summarize_cumulative_return()\n",
    "\n",
    "\n",
    "# Review the 10-year Monte Carlo summary statistics\n",
    "mc_10yrs_500sims_weight_20_80_sum_stat"
   ]
  },
  {
   "cell_type": "markdown",
   "metadata": {},
   "source": [
    "### Answer the following questions:"
   ]
  },
  {
   "cell_type": "markdown",
   "metadata": {},
   "source": [
    "#### Question: Using the current value of only the stock and bond portion of the member's portfolio and the summary statistics that you generated from the new Monte Carlo simulation, what are the lower and upper bounds for the expected value of the portfolio (with the new weights) with a 95% confidence interval?"
   ]
  },
  {
   "cell_type": "code",
   "execution_count": 42,
   "metadata": {},
   "outputs": [
    {
     "name": "stdout",
     "output_type": "stream",
     "text": [
      " the current value of the stocks and bonds is $60689.50\n"
     ]
    }
   ],
   "source": [
    "# Print the current balance of the stock and bond portion of the members portfolio\n",
    "print(f\" the current value of the stocks and bonds is ${total_stocks_bonds:.2f}\" )"
   ]
  },
  {
   "cell_type": "code",
   "execution_count": 43,
   "metadata": {},
   "outputs": [
    {
     "name": "stdout",
     "output_type": "stream",
     "text": [
      " There is a 95% probability that the current stock and bonds portfolio in 10 years will be valued between $ 70131.35 and $ 587472.48\n"
     ]
    }
   ],
   "source": [
    "# Use the lower and upper `95%` confidence intervals to calculate the range of the possible outcomes for the current stock/bond portfolio\n",
    "# Below assigns the new variables the 95% CI lower and higher by selecting the corresponding values\n",
    "ci_lower_ten_cumulative_return = mc_10yrs_500sims_weight_20_80_sum_stat[8] * total_stocks_bonds\n",
    "ci_upper_ten_cumulative_return = mc_10yrs_500sims_weight_20_80_sum_stat[9] * total_stocks_bonds\n",
    "\n",
    "# Print the result of your calculations\n",
    "print(f\" There is a 95% probability that the current stock and bonds portfolio in 10 years will be valued between ${ci_lower_ten_cumulative_return: .2f} and ${ci_upper_ten_cumulative_return: .2f}\" )"
   ]
  },
  {
   "cell_type": "markdown",
   "metadata": {},
   "source": [
    "#### Question: Will weighting the portfolio more heavily to stocks allow the credit union members to retire after only 10 years?"
   ]
  },
  {
   "cell_type": "raw",
   "metadata": {},
   "source": [
    "**Answer** Based on the analysis at this time it is unlikely the credit union member would be able to solely retire in 10 years off their current stock and bonds portfolio because there is a 95% probability that the stock and bonds portfolio will not exceed a value greater than ~$587K (ci_upper_ten_cumulative_return) which is below the threshold requirements listed in the following link https://www.businessinsider.com/personal-finance/how-much-do-i-need-to-retire#:~:text=According%20to%20AARP%2C%20one%20common%20rule%20of%20thumb,may%20only%20need%20%2452%2C500%20to%20%2460%2C000%20in%20retirement."
   ]
  }
 ],
 "metadata": {
  "kernelspec": {
   "display_name": "Python (dev)",
   "language": "python",
   "name": "dev"
  },
  "language_info": {
   "codemirror_mode": {
    "name": "ipython",
    "version": 3
   },
   "file_extension": ".py",
   "mimetype": "text/x-python",
   "name": "python",
   "nbconvert_exporter": "python",
   "pygments_lexer": "ipython3",
   "version": "3.7.10"
  }
 },
 "nbformat": 4,
 "nbformat_minor": 4
}
